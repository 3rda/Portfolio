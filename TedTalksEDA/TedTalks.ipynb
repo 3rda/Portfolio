{
 "cells": [
  {
   "cell_type": "markdown",
   "id": "f911bc71",
   "metadata": {},
   "source": [
    "### Import Relevant Libraries"
   ]
  },
  {
   "cell_type": "code",
   "execution_count": 11,
   "id": "b4721ff1",
   "metadata": {},
   "outputs": [],
   "source": [
    "import pandas as pd\n",
    "import numpy as np\n",
    "import matplotlib.pyplot as plt\n",
    "import seaborn as sns\n",
    "sns.set()\n",
    "#Supressing Scientific Notation\n",
    "pd.options.display.float_format = '{:20,.2f}'.format"
   ]
  },
  {
   "cell_type": "markdown",
   "id": "dd5036a4",
   "metadata": {},
   "source": [
    "### Loading the Data"
   ]
  },
  {
   "cell_type": "code",
   "execution_count": 2,
   "id": "b0b57757",
   "metadata": {},
   "outputs": [
    {
     "data": {
      "text/html": [
       "<div>\n",
       "<style scoped>\n",
       "    .dataframe tbody tr th:only-of-type {\n",
       "        vertical-align: middle;\n",
       "    }\n",
       "\n",
       "    .dataframe tbody tr th {\n",
       "        vertical-align: top;\n",
       "    }\n",
       "\n",
       "    .dataframe thead th {\n",
       "        text-align: right;\n",
       "    }\n",
       "</style>\n",
       "<table border=\"1\" class=\"dataframe\">\n",
       "  <thead>\n",
       "    <tr style=\"text-align: right;\">\n",
       "      <th></th>\n",
       "      <th>title</th>\n",
       "      <th>author</th>\n",
       "      <th>date</th>\n",
       "      <th>views</th>\n",
       "      <th>likes</th>\n",
       "      <th>link</th>\n",
       "    </tr>\n",
       "  </thead>\n",
       "  <tbody>\n",
       "    <tr>\n",
       "      <th>0</th>\n",
       "      <td>Climate action needs new frontline leadership</td>\n",
       "      <td>Ozawa Bineshi Albert</td>\n",
       "      <td>December 2021</td>\n",
       "      <td>404000</td>\n",
       "      <td>12000</td>\n",
       "      <td>https://ted.com/talks/ozawa_bineshi_albert_cli...</td>\n",
       "    </tr>\n",
       "    <tr>\n",
       "      <th>1</th>\n",
       "      <td>The dark history of the overthrow of Hawaii</td>\n",
       "      <td>Sydney Iaukea</td>\n",
       "      <td>February 2022</td>\n",
       "      <td>214000</td>\n",
       "      <td>6400</td>\n",
       "      <td>https://ted.com/talks/sydney_iaukea_the_dark_h...</td>\n",
       "    </tr>\n",
       "    <tr>\n",
       "      <th>2</th>\n",
       "      <td>How play can spark new ideas for your business</td>\n",
       "      <td>Martin Reeves</td>\n",
       "      <td>September 2021</td>\n",
       "      <td>412000</td>\n",
       "      <td>12000</td>\n",
       "      <td>https://ted.com/talks/martin_reeves_how_play_c...</td>\n",
       "    </tr>\n",
       "    <tr>\n",
       "      <th>3</th>\n",
       "      <td>Why is China appointing judges to combat clima...</td>\n",
       "      <td>James K. Thornton</td>\n",
       "      <td>October 2021</td>\n",
       "      <td>427000</td>\n",
       "      <td>12000</td>\n",
       "      <td>https://ted.com/talks/james_k_thornton_why_is_...</td>\n",
       "    </tr>\n",
       "    <tr>\n",
       "      <th>4</th>\n",
       "      <td>Cement's carbon problem — and 2 ways to fix it</td>\n",
       "      <td>Mahendra Singhi</td>\n",
       "      <td>October 2021</td>\n",
       "      <td>2400</td>\n",
       "      <td>72</td>\n",
       "      <td>https://ted.com/talks/mahendra_singhi_cement_s...</td>\n",
       "    </tr>\n",
       "  </tbody>\n",
       "</table>\n",
       "</div>"
      ],
      "text/plain": [
       "                                               title                author  \\\n",
       "0      Climate action needs new frontline leadership  Ozawa Bineshi Albert   \n",
       "1        The dark history of the overthrow of Hawaii         Sydney Iaukea   \n",
       "2     How play can spark new ideas for your business         Martin Reeves   \n",
       "3  Why is China appointing judges to combat clima...     James K. Thornton   \n",
       "4     Cement's carbon problem — and 2 ways to fix it       Mahendra Singhi   \n",
       "\n",
       "             date   views  likes  \\\n",
       "0   December 2021  404000  12000   \n",
       "1   February 2022  214000   6400   \n",
       "2  September 2021  412000  12000   \n",
       "3    October 2021  427000  12000   \n",
       "4    October 2021    2400     72   \n",
       "\n",
       "                                                link  \n",
       "0  https://ted.com/talks/ozawa_bineshi_albert_cli...  \n",
       "1  https://ted.com/talks/sydney_iaukea_the_dark_h...  \n",
       "2  https://ted.com/talks/martin_reeves_how_play_c...  \n",
       "3  https://ted.com/talks/james_k_thornton_why_is_...  \n",
       "4  https://ted.com/talks/mahendra_singhi_cement_s...  "
      ]
     },
     "execution_count": 2,
     "metadata": {},
     "output_type": "execute_result"
    }
   ],
   "source": [
    "raw_data = pd.read_csv('data.csv')\n",
    "raw_data.head()"
   ]
  },
  {
   "cell_type": "markdown",
   "id": "a235fb6d",
   "metadata": {},
   "source": [
    "### Checking Missing Values"
   ]
  },
  {
   "cell_type": "code",
   "execution_count": 3,
   "id": "7d04afce",
   "metadata": {
    "scrolled": true
   },
   "outputs": [
    {
     "data": {
      "text/plain": [
       "title     0\n",
       "author    1\n",
       "date      0\n",
       "views     0\n",
       "likes     0\n",
       "link      0\n",
       "dtype: int64"
      ]
     },
     "execution_count": 3,
     "metadata": {},
     "output_type": "execute_result"
    }
   ],
   "source": [
    "raw_data.isna().sum()"
   ]
  },
  {
   "cell_type": "code",
   "execution_count": 7,
   "id": "37f1d315",
   "metadata": {},
   "outputs": [
    {
     "data": {
      "text/html": [
       "<div>\n",
       "<style scoped>\n",
       "    .dataframe tbody tr th:only-of-type {\n",
       "        vertical-align: middle;\n",
       "    }\n",
       "\n",
       "    .dataframe tbody tr th {\n",
       "        vertical-align: top;\n",
       "    }\n",
       "\n",
       "    .dataframe thead th {\n",
       "        text-align: right;\n",
       "    }\n",
       "</style>\n",
       "<table border=\"1\" class=\"dataframe\">\n",
       "  <thead>\n",
       "    <tr style=\"text-align: right;\">\n",
       "      <th></th>\n",
       "      <th>title</th>\n",
       "      <th>author</th>\n",
       "      <th>date</th>\n",
       "      <th>views</th>\n",
       "      <th>likes</th>\n",
       "      <th>link</th>\n",
       "    </tr>\n",
       "  </thead>\n",
       "  <tbody>\n",
       "    <tr>\n",
       "      <th>3039</th>\n",
       "      <td>Year In Ideas 2015</td>\n",
       "      <td>NaN</td>\n",
       "      <td>December 2015</td>\n",
       "      <td>532</td>\n",
       "      <td>15</td>\n",
       "      <td>https://ted.com/talks/year_in_ideas_2015</td>\n",
       "    </tr>\n",
       "  </tbody>\n",
       "</table>\n",
       "</div>"
      ],
      "text/plain": [
       "                   title author           date  views  likes  \\\n",
       "3039  Year In Ideas 2015    NaN  December 2015    532     15   \n",
       "\n",
       "                                          link  \n",
       "3039  https://ted.com/talks/year_in_ideas_2015  "
      ]
     },
     "execution_count": 7,
     "metadata": {},
     "output_type": "execute_result"
    }
   ],
   "source": [
    "raw_data[raw_data['author'].isna()]"
   ]
  },
  {
   "cell_type": "markdown",
   "id": "1a9c4d16",
   "metadata": {},
   "source": [
    "Note : This talk has multiple speakers. Thats why the value is NaN"
   ]
  },
  {
   "cell_type": "markdown",
   "id": "3a48c95f",
   "metadata": {},
   "source": [
    "### Checking Duplicate Values"
   ]
  },
  {
   "cell_type": "code",
   "execution_count": 4,
   "id": "94c8ac02",
   "metadata": {
    "scrolled": true
   },
   "outputs": [
    {
     "data": {
      "text/plain": [
       "0"
      ]
     },
     "execution_count": 4,
     "metadata": {},
     "output_type": "execute_result"
    }
   ],
   "source": [
    "len(raw_data[raw_data.duplicated() == True])"
   ]
  },
  {
   "cell_type": "markdown",
   "id": "7cd4ebdc",
   "metadata": {},
   "source": [
    "### Checking Each Columns Datatypes"
   ]
  },
  {
   "cell_type": "code",
   "execution_count": 12,
   "id": "1e1fee3b",
   "metadata": {},
   "outputs": [
    {
     "name": "stdout",
     "output_type": "stream",
     "text": [
      "<class 'pandas.core.frame.DataFrame'>\n",
      "RangeIndex: 5440 entries, 0 to 5439\n",
      "Data columns (total 6 columns):\n",
      " #   Column  Non-Null Count  Dtype \n",
      "---  ------  --------------  ----- \n",
      " 0   title   5440 non-null   object\n",
      " 1   author  5439 non-null   object\n",
      " 2   date    5440 non-null   object\n",
      " 3   views   5440 non-null   int64 \n",
      " 4   likes   5440 non-null   int64 \n",
      " 5   link    5440 non-null   object\n",
      "dtypes: int64(2), object(4)\n",
      "memory usage: 255.1+ KB\n"
     ]
    }
   ],
   "source": [
    "raw_data.info()"
   ]
  },
  {
   "cell_type": "code",
   "execution_count": 13,
   "id": "5b88c08f",
   "metadata": {},
   "outputs": [
    {
     "data": {
      "text/html": [
       "<div>\n",
       "<style scoped>\n",
       "    .dataframe tbody tr th:only-of-type {\n",
       "        vertical-align: middle;\n",
       "    }\n",
       "\n",
       "    .dataframe tbody tr th {\n",
       "        vertical-align: top;\n",
       "    }\n",
       "\n",
       "    .dataframe thead th {\n",
       "        text-align: right;\n",
       "    }\n",
       "</style>\n",
       "<table border=\"1\" class=\"dataframe\">\n",
       "  <thead>\n",
       "    <tr style=\"text-align: right;\">\n",
       "      <th></th>\n",
       "      <th>views</th>\n",
       "      <th>likes</th>\n",
       "    </tr>\n",
       "  </thead>\n",
       "  <tbody>\n",
       "    <tr>\n",
       "      <th>count</th>\n",
       "      <td>5,440.00</td>\n",
       "      <td>5,440.00</td>\n",
       "    </tr>\n",
       "    <tr>\n",
       "      <th>mean</th>\n",
       "      <td>2,061,575.96</td>\n",
       "      <td>62,607.62</td>\n",
       "    </tr>\n",
       "    <tr>\n",
       "      <th>std</th>\n",
       "      <td>3,567,097.77</td>\n",
       "      <td>107,646.77</td>\n",
       "    </tr>\n",
       "    <tr>\n",
       "      <th>min</th>\n",
       "      <td>532.00</td>\n",
       "      <td>15.00</td>\n",
       "    </tr>\n",
       "    <tr>\n",
       "      <th>25%</th>\n",
       "      <td>670,750.00</td>\n",
       "      <td>20,000.00</td>\n",
       "    </tr>\n",
       "    <tr>\n",
       "      <th>50%</th>\n",
       "      <td>1,300,000.00</td>\n",
       "      <td>40,500.00</td>\n",
       "    </tr>\n",
       "    <tr>\n",
       "      <th>75%</th>\n",
       "      <td>2,100,000.00</td>\n",
       "      <td>65,000.00</td>\n",
       "    </tr>\n",
       "    <tr>\n",
       "      <th>max</th>\n",
       "      <td>72,000,000.00</td>\n",
       "      <td>2,100,000.00</td>\n",
       "    </tr>\n",
       "  </tbody>\n",
       "</table>\n",
       "</div>"
      ],
      "text/plain": [
       "                     views                likes\n",
       "count             5,440.00             5,440.00\n",
       "mean          2,061,575.96            62,607.62\n",
       "std           3,567,097.77           107,646.77\n",
       "min                 532.00                15.00\n",
       "25%             670,750.00            20,000.00\n",
       "50%           1,300,000.00            40,500.00\n",
       "75%           2,100,000.00            65,000.00\n",
       "max          72,000,000.00         2,100,000.00"
      ]
     },
     "execution_count": 13,
     "metadata": {},
     "output_type": "execute_result"
    }
   ],
   "source": [
    "raw_data.describe()"
   ]
  },
  {
   "cell_type": "markdown",
   "id": "f6071b5f",
   "metadata": {},
   "source": [
    "### Dropping the missing value and unnecessary column"
   ]
  },
  {
   "cell_type": "code",
   "execution_count": 31,
   "id": "9e559d83",
   "metadata": {},
   "outputs": [],
   "source": [
    "data_cleaned = raw_data.dropna()\n",
    "data_cleaned = data_cleaned.drop('link',axis=1)"
   ]
  },
  {
   "cell_type": "code",
   "execution_count": 32,
   "id": "f8165573",
   "metadata": {},
   "outputs": [
    {
     "data": {
      "text/plain": [
       "title     0\n",
       "author    0\n",
       "date      0\n",
       "views     0\n",
       "likes     0\n",
       "dtype: int64"
      ]
     },
     "execution_count": 32,
     "metadata": {},
     "output_type": "execute_result"
    }
   ],
   "source": [
    "#Checking missing values\n",
    "data_cleaned.isna().sum()"
   ]
  },
  {
   "cell_type": "markdown",
   "id": "548027e7",
   "metadata": {},
   "source": [
    "### Finding Average Views and Likes in Each Year"
   ]
  },
  {
   "cell_type": "code",
   "execution_count": 33,
   "id": "6f52837e",
   "metadata": {},
   "outputs": [
    {
     "data": {
      "image/png": "[encoded data removed]",
      "text/plain": [
       "<Figure size 432x288 with 1 Axes>"
      ]
     },
     "metadata": {},
     "output_type": "display_data"
    }
   ],
   "source": [
    "#Correlation between views and likes\n",
    "plt.scatter(data_cleaned['views'],data_cleaned['likes'])\n",
    "plt.xlabel('Views')\n",
    "plt.ylabel('Likes')\n",
    "plt.title('Views and Likes (in Million)')\n",
    "plt.show()"
   ]
  },
  {
   "cell_type": "markdown",
   "id": "fa37a8d7",
   "metadata": {},
   "source": [
    "Looks likes a straight line. Which meant that as the views goes up, the likes count goes up too!"
   ]
  },
  {
   "cell_type": "markdown",
   "id": "5b9ddc8a",
   "metadata": {},
   "source": [
    "### Extracting Year and Month from the Date Column"
   ]
  },
  {
   "cell_type": "code",
   "execution_count": 34,
   "id": "8789a659",
   "metadata": {},
   "outputs": [
    {
     "data": {
      "text/html": [
       "<div>\n",
       "<style scoped>\n",
       "    .dataframe tbody tr th:only-of-type {\n",
       "        vertical-align: middle;\n",
       "    }\n",
       "\n",
       "    .dataframe tbody tr th {\n",
       "        vertical-align: top;\n",
       "    }\n",
       "\n",
       "    .dataframe thead th {\n",
       "        text-align: right;\n",
       "    }\n",
       "</style>\n",
       "<table border=\"1\" class=\"dataframe\">\n",
       "  <thead>\n",
       "    <tr style=\"text-align: right;\">\n",
       "      <th></th>\n",
       "      <th>title</th>\n",
       "      <th>author</th>\n",
       "      <th>date</th>\n",
       "      <th>views</th>\n",
       "      <th>likes</th>\n",
       "    </tr>\n",
       "  </thead>\n",
       "  <tbody>\n",
       "    <tr>\n",
       "      <th>0</th>\n",
       "      <td>Climate action needs new frontline leadership</td>\n",
       "      <td>Ozawa Bineshi Albert</td>\n",
       "      <td>2021-12-01</td>\n",
       "      <td>404000</td>\n",
       "      <td>12000</td>\n",
       "    </tr>\n",
       "    <tr>\n",
       "      <th>1</th>\n",
       "      <td>The dark history of the overthrow of Hawaii</td>\n",
       "      <td>Sydney Iaukea</td>\n",
       "      <td>2022-02-01</td>\n",
       "      <td>214000</td>\n",
       "      <td>6400</td>\n",
       "    </tr>\n",
       "    <tr>\n",
       "      <th>2</th>\n",
       "      <td>How play can spark new ideas for your business</td>\n",
       "      <td>Martin Reeves</td>\n",
       "      <td>2021-09-01</td>\n",
       "      <td>412000</td>\n",
       "      <td>12000</td>\n",
       "    </tr>\n",
       "    <tr>\n",
       "      <th>3</th>\n",
       "      <td>Why is China appointing judges to combat clima...</td>\n",
       "      <td>James K. Thornton</td>\n",
       "      <td>2021-10-01</td>\n",
       "      <td>427000</td>\n",
       "      <td>12000</td>\n",
       "    </tr>\n",
       "    <tr>\n",
       "      <th>4</th>\n",
       "      <td>Cement's carbon problem — and 2 ways to fix it</td>\n",
       "      <td>Mahendra Singhi</td>\n",
       "      <td>2021-10-01</td>\n",
       "      <td>2400</td>\n",
       "      <td>72</td>\n",
       "    </tr>\n",
       "  </tbody>\n",
       "</table>\n",
       "</div>"
      ],
      "text/plain": [
       "                                               title                author  \\\n",
       "0      Climate action needs new frontline leadership  Ozawa Bineshi Albert   \n",
       "1        The dark history of the overthrow of Hawaii         Sydney Iaukea   \n",
       "2     How play can spark new ideas for your business         Martin Reeves   \n",
       "3  Why is China appointing judges to combat clima...     James K. Thornton   \n",
       "4     Cement's carbon problem — and 2 ways to fix it       Mahendra Singhi   \n",
       "\n",
       "        date   views  likes  \n",
       "0 2021-12-01  404000  12000  \n",
       "1 2022-02-01  214000   6400  \n",
       "2 2021-09-01  412000  12000  \n",
       "3 2021-10-01  427000  12000  \n",
       "4 2021-10-01    2400     72  "
      ]
     },
     "execution_count": 34,
     "metadata": {},
     "output_type": "execute_result"
    }
   ],
   "source": [
    "data_cleaned['date'] = pd.to_datetime(data_cleaned['date'])\n",
    "data_cleaned.head()"
   ]
  },
  {
   "cell_type": "code",
   "execution_count": 35,
   "id": "4245c340",
   "metadata": {},
   "outputs": [
    {
     "data": {
      "text/html": [
       "<div>\n",
       "<style scoped>\n",
       "    .dataframe tbody tr th:only-of-type {\n",
       "        vertical-align: middle;\n",
       "    }\n",
       "\n",
       "    .dataframe tbody tr th {\n",
       "        vertical-align: top;\n",
       "    }\n",
       "\n",
       "    .dataframe thead th {\n",
       "        text-align: right;\n",
       "    }\n",
       "</style>\n",
       "<table border=\"1\" class=\"dataframe\">\n",
       "  <thead>\n",
       "    <tr style=\"text-align: right;\">\n",
       "      <th></th>\n",
       "      <th>title</th>\n",
       "      <th>author</th>\n",
       "      <th>views</th>\n",
       "      <th>likes</th>\n",
       "      <th>year</th>\n",
       "      <th>month</th>\n",
       "    </tr>\n",
       "  </thead>\n",
       "  <tbody>\n",
       "    <tr>\n",
       "      <th>0</th>\n",
       "      <td>Climate action needs new frontline leadership</td>\n",
       "      <td>Ozawa Bineshi Albert</td>\n",
       "      <td>404000</td>\n",
       "      <td>12000</td>\n",
       "      <td>2021</td>\n",
       "      <td>12</td>\n",
       "    </tr>\n",
       "    <tr>\n",
       "      <th>1</th>\n",
       "      <td>The dark history of the overthrow of Hawaii</td>\n",
       "      <td>Sydney Iaukea</td>\n",
       "      <td>214000</td>\n",
       "      <td>6400</td>\n",
       "      <td>2022</td>\n",
       "      <td>2</td>\n",
       "    </tr>\n",
       "    <tr>\n",
       "      <th>2</th>\n",
       "      <td>How play can spark new ideas for your business</td>\n",
       "      <td>Martin Reeves</td>\n",
       "      <td>412000</td>\n",
       "      <td>12000</td>\n",
       "      <td>2021</td>\n",
       "      <td>9</td>\n",
       "    </tr>\n",
       "    <tr>\n",
       "      <th>3</th>\n",
       "      <td>Why is China appointing judges to combat clima...</td>\n",
       "      <td>James K. Thornton</td>\n",
       "      <td>427000</td>\n",
       "      <td>12000</td>\n",
       "      <td>2021</td>\n",
       "      <td>10</td>\n",
       "    </tr>\n",
       "    <tr>\n",
       "      <th>4</th>\n",
       "      <td>Cement's carbon problem — and 2 ways to fix it</td>\n",
       "      <td>Mahendra Singhi</td>\n",
       "      <td>2400</td>\n",
       "      <td>72</td>\n",
       "      <td>2021</td>\n",
       "      <td>10</td>\n",
       "    </tr>\n",
       "  </tbody>\n",
       "</table>\n",
       "</div>"
      ],
      "text/plain": [
       "                                               title                author  \\\n",
       "0      Climate action needs new frontline leadership  Ozawa Bineshi Albert   \n",
       "1        The dark history of the overthrow of Hawaii         Sydney Iaukea   \n",
       "2     How play can spark new ideas for your business         Martin Reeves   \n",
       "3  Why is China appointing judges to combat clima...     James K. Thornton   \n",
       "4     Cement's carbon problem — and 2 ways to fix it       Mahendra Singhi   \n",
       "\n",
       "    views  likes  year  month  \n",
       "0  404000  12000  2021     12  \n",
       "1  214000   6400  2022      2  \n",
       "2  412000  12000  2021      9  \n",
       "3  427000  12000  2021     10  \n",
       "4    2400     72  2021     10  "
      ]
     },
     "execution_count": 35,
     "metadata": {},
     "output_type": "execute_result"
    }
   ],
   "source": [
    "#Extracting the month and year from the date column. And the dropping the date column\n",
    "data_cleaned['year'] = pd.DatetimeIndex(data_cleaned['date']).year\n",
    "data_cleaned['month'] = pd.DatetimeIndex(data_cleaned['date']).month\n",
    "data_cleaned = data_cleaned.drop('date',axis=1)\n",
    "data_cleaned.head()"
   ]
  },
  {
   "cell_type": "code",
   "execution_count": 37,
   "id": "3ff6ae04",
   "metadata": {},
   "outputs": [
    {
     "data": {
      "text/plain": [
       "array(['title', 'author', 'views', 'likes', 'year', 'month'], dtype=object)"
      ]
     },
     "execution_count": 37,
     "metadata": {},
     "output_type": "execute_result"
    }
   ],
   "source": [
    "#Rearranging the Columns\n",
    "data_cleaned.columns.values"
   ]
  },
  {
   "cell_type": "code",
   "execution_count": 38,
   "id": "a664426c",
   "metadata": {},
   "outputs": [
    {
     "data": {
      "text/html": [
       "<div>\n",
       "<style scoped>\n",
       "    .dataframe tbody tr th:only-of-type {\n",
       "        vertical-align: middle;\n",
       "    }\n",
       "\n",
       "    .dataframe tbody tr th {\n",
       "        vertical-align: top;\n",
       "    }\n",
       "\n",
       "    .dataframe thead th {\n",
       "        text-align: right;\n",
       "    }\n",
       "</style>\n",
       "<table border=\"1\" class=\"dataframe\">\n",
       "  <thead>\n",
       "    <tr style=\"text-align: right;\">\n",
       "      <th></th>\n",
       "      <th>title</th>\n",
       "      <th>author</th>\n",
       "      <th>month</th>\n",
       "      <th>year</th>\n",
       "      <th>likes</th>\n",
       "      <th>views</th>\n",
       "    </tr>\n",
       "  </thead>\n",
       "  <tbody>\n",
       "    <tr>\n",
       "      <th>0</th>\n",
       "      <td>Climate action needs new frontline leadership</td>\n",
       "      <td>Ozawa Bineshi Albert</td>\n",
       "      <td>12</td>\n",
       "      <td>2021</td>\n",
       "      <td>12000</td>\n",
       "      <td>404000</td>\n",
       "    </tr>\n",
       "    <tr>\n",
       "      <th>1</th>\n",
       "      <td>The dark history of the overthrow of Hawaii</td>\n",
       "      <td>Sydney Iaukea</td>\n",
       "      <td>2</td>\n",
       "      <td>2022</td>\n",
       "      <td>6400</td>\n",
       "      <td>214000</td>\n",
       "    </tr>\n",
       "    <tr>\n",
       "      <th>2</th>\n",
       "      <td>How play can spark new ideas for your business</td>\n",
       "      <td>Martin Reeves</td>\n",
       "      <td>9</td>\n",
       "      <td>2021</td>\n",
       "      <td>12000</td>\n",
       "      <td>412000</td>\n",
       "    </tr>\n",
       "    <tr>\n",
       "      <th>3</th>\n",
       "      <td>Why is China appointing judges to combat clima...</td>\n",
       "      <td>James K. Thornton</td>\n",
       "      <td>10</td>\n",
       "      <td>2021</td>\n",
       "      <td>12000</td>\n",
       "      <td>427000</td>\n",
       "    </tr>\n",
       "    <tr>\n",
       "      <th>4</th>\n",
       "      <td>Cement's carbon problem — and 2 ways to fix it</td>\n",
       "      <td>Mahendra Singhi</td>\n",
       "      <td>10</td>\n",
       "      <td>2021</td>\n",
       "      <td>72</td>\n",
       "      <td>2400</td>\n",
       "    </tr>\n",
       "  </tbody>\n",
       "</table>\n",
       "</div>"
      ],
      "text/plain": [
       "                                               title                author  \\\n",
       "0      Climate action needs new frontline leadership  Ozawa Bineshi Albert   \n",
       "1        The dark history of the overthrow of Hawaii         Sydney Iaukea   \n",
       "2     How play can spark new ideas for your business         Martin Reeves   \n",
       "3  Why is China appointing judges to combat clima...     James K. Thornton   \n",
       "4     Cement's carbon problem — and 2 ways to fix it       Mahendra Singhi   \n",
       "\n",
       "   month  year  likes   views  \n",
       "0     12  2021  12000  404000  \n",
       "1      2  2022   6400  214000  \n",
       "2      9  2021  12000  412000  \n",
       "3     10  2021  12000  427000  \n",
       "4     10  2021     72    2400  "
      ]
     },
     "execution_count": 38,
     "metadata": {},
     "output_type": "execute_result"
    }
   ],
   "source": [
    "data_cleaned = data_cleaned[['title', 'author', 'month','year','likes','views']]\n",
    "data_cleaned.head()"
   ]
  },
  {
   "cell_type": "code",
   "execution_count": null,
   "id": "2b847f82",
   "metadata": {},
   "outputs": [],
   "source": []
  }
 ],
 "metadata": {
  "kernelspec": {
   "display_name": "Python 3 (ipykernel)",
   "language": "python",
   "name": "python3"
  },
  "language_info": {
   "codemirror_mode": {
    "name": "ipython",
    "version": 3
   },
   "file_extension": ".py",
   "mimetype": "text/x-python",
   "name": "python",
   "nbconvert_exporter": "python",
   "pygments_lexer": "ipython3",
   "version": "3.9.7"
  }
 },
 "nbformat": 4,
 "nbformat_minor": 5
}
