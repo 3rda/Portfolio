{
 "cells": [
  {
   "cell_type": "markdown",
   "id": "7edcfb05",
   "metadata": {},
   "source": [
    "### Import Relevant Libraries"
   ]
  },
  {
   "cell_type": "code",
   "execution_count": 1,
   "id": "88c13a1e",
   "metadata": {},
   "outputs": [],
   "source": [
    "import pandas as pd\n",
    "import numpy as np\n",
    "import matplotlib.pyplot as plt\n",
    "import seaborn as sns\n",
    "sns.set()\n",
    "#Supressing Scientific Notation\n",
    "pd.options.display.float_format = '{:20,.2f}'.format"
   ]
  },
  {
   "cell_type": "markdown",
   "id": "7a908b09",
   "metadata": {},
   "source": [
    "### Loading the Data"
   ]
  },
  {
   "cell_type": "code",
   "execution_count": 2,
   "id": "706a4256",
   "metadata": {},
   "outputs": [
    {
     "data": {
      "text/html": [
       "<div>\n",
       "<style scoped>\n",
       "    .dataframe tbody tr th:only-of-type {\n",
       "        vertical-align: middle;\n",
       "    }\n",
       "\n",
       "    .dataframe tbody tr th {\n",
       "        vertical-align: top;\n",
       "    }\n",
       "\n",
       "    .dataframe thead th {\n",
       "        text-align: right;\n",
       "    }\n",
       "</style>\n",
       "<table border=\"1\" class=\"dataframe\">\n",
       "  <thead>\n",
       "    <tr style=\"text-align: right;\">\n",
       "      <th></th>\n",
       "      <th>title</th>\n",
       "      <th>author</th>\n",
       "      <th>date</th>\n",
       "      <th>views</th>\n",
       "      <th>likes</th>\n",
       "      <th>link</th>\n",
       "    </tr>\n",
       "  </thead>\n",
       "  <tbody>\n",
       "    <tr>\n",
       "      <th>0</th>\n",
       "      <td>Climate action needs new frontline leadership</td>\n",
       "      <td>Ozawa Bineshi Albert</td>\n",
       "      <td>December 2021</td>\n",
       "      <td>404000</td>\n",
       "      <td>12000</td>\n",
       "      <td>https://ted.com/talks/ozawa_bineshi_albert_cli...</td>\n",
       "    </tr>\n",
       "    <tr>\n",
       "      <th>1</th>\n",
       "      <td>The dark history of the overthrow of Hawaii</td>\n",
       "      <td>Sydney Iaukea</td>\n",
       "      <td>February 2022</td>\n",
       "      <td>214000</td>\n",
       "      <td>6400</td>\n",
       "      <td>https://ted.com/talks/sydney_iaukea_the_dark_h...</td>\n",
       "    </tr>\n",
       "    <tr>\n",
       "      <th>2</th>\n",
       "      <td>How play can spark new ideas for your business</td>\n",
       "      <td>Martin Reeves</td>\n",
       "      <td>September 2021</td>\n",
       "      <td>412000</td>\n",
       "      <td>12000</td>\n",
       "      <td>https://ted.com/talks/martin_reeves_how_play_c...</td>\n",
       "    </tr>\n",
       "    <tr>\n",
       "      <th>3</th>\n",
       "      <td>Why is China appointing judges to combat clima...</td>\n",
       "      <td>James K. Thornton</td>\n",
       "      <td>October 2021</td>\n",
       "      <td>427000</td>\n",
       "      <td>12000</td>\n",
       "      <td>https://ted.com/talks/james_k_thornton_why_is_...</td>\n",
       "    </tr>\n",
       "    <tr>\n",
       "      <th>4</th>\n",
       "      <td>Cement's carbon problem — and 2 ways to fix it</td>\n",
       "      <td>Mahendra Singhi</td>\n",
       "      <td>October 2021</td>\n",
       "      <td>2400</td>\n",
       "      <td>72</td>\n",
       "      <td>https://ted.com/talks/mahendra_singhi_cement_s...</td>\n",
       "    </tr>\n",
       "  </tbody>\n",
       "</table>\n",
       "</div>"
      ],
      "text/plain": [
       "                                               title                author  \\\n",
       "0      Climate action needs new frontline leadership  Ozawa Bineshi Albert   \n",
       "1        The dark history of the overthrow of Hawaii         Sydney Iaukea   \n",
       "2     How play can spark new ideas for your business         Martin Reeves   \n",
       "3  Why is China appointing judges to combat clima...     James K. Thornton   \n",
       "4     Cement's carbon problem — and 2 ways to fix it       Mahendra Singhi   \n",
       "\n",
       "             date   views  likes  \\\n",
       "0   December 2021  404000  12000   \n",
       "1   February 2022  214000   6400   \n",
       "2  September 2021  412000  12000   \n",
       "3    October 2021  427000  12000   \n",
       "4    October 2021    2400     72   \n",
       "\n",
       "                                                link  \n",
       "0  https://ted.com/talks/ozawa_bineshi_albert_cli...  \n",
       "1  https://ted.com/talks/sydney_iaukea_the_dark_h...  \n",
       "2  https://ted.com/talks/martin_reeves_how_play_c...  \n",
       "3  https://ted.com/talks/james_k_thornton_why_is_...  \n",
       "4  https://ted.com/talks/mahendra_singhi_cement_s...  "
      ]
     },
     "execution_count": 2,
     "metadata": {},
     "output_type": "execute_result"
    }
   ],
   "source": [
    "raw_data = pd.read_csv('data.csv')\n",
    "raw_data.head()"
   ]
  },
  {
   "cell_type": "markdown",
   "id": "8585283f",
   "metadata": {},
   "source": [
    "### Checking Missing Values"
   ]
  },
  {
   "cell_type": "code",
   "execution_count": 3,
   "id": "02a80ec5",
   "metadata": {
    "scrolled": true
   },
   "outputs": [
    {
     "data": {
      "text/plain": [
       "title     0\n",
       "author    1\n",
       "date      0\n",
       "views     0\n",
       "likes     0\n",
       "link      0\n",
       "dtype: int64"
      ]
     },
     "execution_count": 3,
     "metadata": {},
     "output_type": "execute_result"
    }
   ],
   "source": [
    "raw_data.isna().sum()"
   ]
  },
  {
   "cell_type": "code",
   "execution_count": 134,
   "id": "81e7dd62",
   "metadata": {},
   "outputs": [
    {
     "data": {
      "text/html": [
       "<div>\n",
       "<style scoped>\n",
       "    .dataframe tbody tr th:only-of-type {\n",
       "        vertical-align: middle;\n",
       "    }\n",
       "\n",
       "    .dataframe tbody tr th {\n",
       "        vertical-align: top;\n",
       "    }\n",
       "\n",
       "    .dataframe thead th {\n",
       "        text-align: right;\n",
       "    }\n",
       "</style>\n",
       "<table border=\"1\" class=\"dataframe\">\n",
       "  <thead>\n",
       "    <tr style=\"text-align: right;\">\n",
       "      <th></th>\n",
       "      <th>title</th>\n",
       "      <th>author</th>\n",
       "      <th>date</th>\n",
       "      <th>views</th>\n",
       "      <th>likes</th>\n",
       "      <th>link</th>\n",
       "    </tr>\n",
       "  </thead>\n",
       "  <tbody>\n",
       "    <tr>\n",
       "      <th>3039</th>\n",
       "      <td>Year In Ideas 2015</td>\n",
       "      <td>NaN</td>\n",
       "      <td>December 2015</td>\n",
       "      <td>532</td>\n",
       "      <td>15</td>\n",
       "      <td>https://ted.com/talks/year_in_ideas_2015</td>\n",
       "    </tr>\n",
       "  </tbody>\n",
       "</table>\n",
       "</div>"
      ],
      "text/plain": [
       "                   title author           date  views  likes  \\\n",
       "3039  Year In Ideas 2015    NaN  December 2015    532     15   \n",
       "\n",
       "                                          link  \n",
       "3039  https://ted.com/talks/year_in_ideas_2015  "
      ]
     },
     "execution_count": 134,
     "metadata": {},
     "output_type": "execute_result"
    }
   ],
   "source": [
    "raw_data[raw_data['author'].isna()]"
   ]
  },
  {
   "cell_type": "markdown",
   "id": "456659d0",
   "metadata": {},
   "source": [
    "Note : This talk has multiple speakers. Thats why the value is NaN"
   ]
  },
  {
   "cell_type": "code",
   "execution_count": 136,
   "id": "a54823d9",
   "metadata": {},
   "outputs": [
    {
     "data": {
      "text/html": [
       "<div>\n",
       "<style scoped>\n",
       "    .dataframe tbody tr th:only-of-type {\n",
       "        vertical-align: middle;\n",
       "    }\n",
       "\n",
       "    .dataframe tbody tr th {\n",
       "        vertical-align: top;\n",
       "    }\n",
       "\n",
       "    .dataframe thead th {\n",
       "        text-align: right;\n",
       "    }\n",
       "</style>\n",
       "<table border=\"1\" class=\"dataframe\">\n",
       "  <thead>\n",
       "    <tr style=\"text-align: right;\">\n",
       "      <th></th>\n",
       "      <th>title</th>\n",
       "      <th>author</th>\n",
       "      <th>date</th>\n",
       "      <th>views</th>\n",
       "      <th>likes</th>\n",
       "      <th>link</th>\n",
       "    </tr>\n",
       "  </thead>\n",
       "  <tbody>\n",
       "    <tr>\n",
       "      <th>5436</th>\n",
       "      <td>Do schools kill creativity?</td>\n",
       "      <td>Sir Ken Robinson</td>\n",
       "      <td>February 2006</td>\n",
       "      <td>72000000</td>\n",
       "      <td>2100000</td>\n",
       "      <td>https://ted.com/talks/sir_ken_robinson_do_scho...</td>\n",
       "    </tr>\n",
       "    <tr>\n",
       "      <th>4084</th>\n",
       "      <td>Your body language may shape who you are</td>\n",
       "      <td>Amy Cuddy</td>\n",
       "      <td>June 2012</td>\n",
       "      <td>64000000</td>\n",
       "      <td>1900000</td>\n",
       "      <td>https://ted.com/talks/amy_cuddy_your_body_lang...</td>\n",
       "    </tr>\n",
       "    <tr>\n",
       "      <th>2958</th>\n",
       "      <td>Inside the mind of a master procrastinator</td>\n",
       "      <td>Tim Urban</td>\n",
       "      <td>February 2016</td>\n",
       "      <td>60000000</td>\n",
       "      <td>1800000</td>\n",
       "      <td>https://ted.com/talks/tim_urban_inside_the_min...</td>\n",
       "    </tr>\n",
       "    <tr>\n",
       "      <th>4765</th>\n",
       "      <td>How great leaders inspire action</td>\n",
       "      <td>Simon Sinek</td>\n",
       "      <td>September 2009</td>\n",
       "      <td>57000000</td>\n",
       "      <td>1700000</td>\n",
       "      <td>https://ted.com/talks/simon_sinek_how_great_le...</td>\n",
       "    </tr>\n",
       "    <tr>\n",
       "      <th>4605</th>\n",
       "      <td>The power of vulnerability</td>\n",
       "      <td>Brené Brown</td>\n",
       "      <td>June 2010</td>\n",
       "      <td>56000000</td>\n",
       "      <td>1700000</td>\n",
       "      <td>https://ted.com/talks/brene_brown_the_power_of...</td>\n",
       "    </tr>\n",
       "    <tr>\n",
       "      <th>3504</th>\n",
       "      <td>How to speak so that people want to listen</td>\n",
       "      <td>Julian Treasure</td>\n",
       "      <td>June 2013</td>\n",
       "      <td>49000000</td>\n",
       "      <td>1400000</td>\n",
       "      <td>https://ted.com/talks/julian_treasure_how_to_s...</td>\n",
       "    </tr>\n",
       "    <tr>\n",
       "      <th>2168</th>\n",
       "      <td>My philosophy for a happy life</td>\n",
       "      <td>Sam Berns</td>\n",
       "      <td>October 2013</td>\n",
       "      <td>43000000</td>\n",
       "      <td>1300000</td>\n",
       "      <td>https://ted.com/talks/sam_berns_my_philosophy_...</td>\n",
       "    </tr>\n",
       "    <tr>\n",
       "      <th>3251</th>\n",
       "      <td>The next outbreak? We're not ready</td>\n",
       "      <td>Bill Gates</td>\n",
       "      <td>March 2015</td>\n",
       "      <td>43000000</td>\n",
       "      <td>1300000</td>\n",
       "      <td>https://ted.com/talks/bill_gates_the_next_outb...</td>\n",
       "    </tr>\n",
       "    <tr>\n",
       "      <th>3017</th>\n",
       "      <td>What makes a good life? Lessons from the longe...</td>\n",
       "      <td>Robert Waldinger</td>\n",
       "      <td>November 2015</td>\n",
       "      <td>41000000</td>\n",
       "      <td>1200000</td>\n",
       "      <td>https://ted.com/talks/robert_waldinger_what_ma...</td>\n",
       "    </tr>\n",
       "    <tr>\n",
       "      <th>3994</th>\n",
       "      <td>Looks aren't everything. Believe me, I'm a model.</td>\n",
       "      <td>Cameron Russell</td>\n",
       "      <td>October 2012</td>\n",
       "      <td>38000000</td>\n",
       "      <td>1100000</td>\n",
       "      <td>https://ted.com/talks/cameron_russell_looks_ar...</td>\n",
       "    </tr>\n",
       "  </tbody>\n",
       "</table>\n",
       "</div>"
      ],
      "text/plain": [
       "                                                  title            author  \\\n",
       "5436                        Do schools kill creativity?  Sir Ken Robinson   \n",
       "4084           Your body language may shape who you are         Amy Cuddy   \n",
       "2958         Inside the mind of a master procrastinator         Tim Urban   \n",
       "4765                   How great leaders inspire action       Simon Sinek   \n",
       "4605                         The power of vulnerability       Brené Brown   \n",
       "3504         How to speak so that people want to listen   Julian Treasure   \n",
       "2168                     My philosophy for a happy life         Sam Berns   \n",
       "3251                 The next outbreak? We're not ready        Bill Gates   \n",
       "3017  What makes a good life? Lessons from the longe...  Robert Waldinger   \n",
       "3994  Looks aren't everything. Believe me, I'm a model.   Cameron Russell   \n",
       "\n",
       "                date     views    likes  \\\n",
       "5436   February 2006  72000000  2100000   \n",
       "4084       June 2012  64000000  1900000   \n",
       "2958   February 2016  60000000  1800000   \n",
       "4765  September 2009  57000000  1700000   \n",
       "4605       June 2010  56000000  1700000   \n",
       "3504       June 2013  49000000  1400000   \n",
       "2168    October 2013  43000000  1300000   \n",
       "3251      March 2015  43000000  1300000   \n",
       "3017   November 2015  41000000  1200000   \n",
       "3994    October 2012  38000000  1100000   \n",
       "\n",
       "                                                   link  \n",
       "5436  https://ted.com/talks/sir_ken_robinson_do_scho...  \n",
       "4084  https://ted.com/talks/amy_cuddy_your_body_lang...  \n",
       "2958  https://ted.com/talks/tim_urban_inside_the_min...  \n",
       "4765  https://ted.com/talks/simon_sinek_how_great_le...  \n",
       "4605  https://ted.com/talks/brene_brown_the_power_of...  \n",
       "3504  https://ted.com/talks/julian_treasure_how_to_s...  \n",
       "2168  https://ted.com/talks/sam_berns_my_philosophy_...  \n",
       "3251  https://ted.com/talks/bill_gates_the_next_outb...  \n",
       "3017  https://ted.com/talks/robert_waldinger_what_ma...  \n",
       "3994  https://ted.com/talks/cameron_russell_looks_ar...  "
      ]
     },
     "execution_count": 136,
     "metadata": {},
     "output_type": "execute_result"
    }
   ],
   "source": [
    "raw_data.sort_values(['views'],ascending=False).head(10)"
   ]
  },
  {
   "cell_type": "code",
   "execution_count": 137,
   "id": "b93deb96",
   "metadata": {},
   "outputs": [
    {
     "data": {
      "text/html": [
       "<div>\n",
       "<style scoped>\n",
       "    .dataframe tbody tr th:only-of-type {\n",
       "        vertical-align: middle;\n",
       "    }\n",
       "\n",
       "    .dataframe tbody tr th {\n",
       "        vertical-align: top;\n",
       "    }\n",
       "\n",
       "    .dataframe thead th {\n",
       "        text-align: right;\n",
       "    }\n",
       "</style>\n",
       "<table border=\"1\" class=\"dataframe\">\n",
       "  <thead>\n",
       "    <tr style=\"text-align: right;\">\n",
       "      <th></th>\n",
       "      <th>title</th>\n",
       "      <th>author</th>\n",
       "      <th>date</th>\n",
       "      <th>views</th>\n",
       "      <th>likes</th>\n",
       "      <th>link</th>\n",
       "    </tr>\n",
       "  </thead>\n",
       "  <tbody>\n",
       "    <tr>\n",
       "      <th>5436</th>\n",
       "      <td>Do schools kill creativity?</td>\n",
       "      <td>Sir Ken Robinson</td>\n",
       "      <td>February 2006</td>\n",
       "      <td>72000000</td>\n",
       "      <td>2100000</td>\n",
       "      <td>https://ted.com/talks/sir_ken_robinson_do_scho...</td>\n",
       "    </tr>\n",
       "    <tr>\n",
       "      <th>4084</th>\n",
       "      <td>Your body language may shape who you are</td>\n",
       "      <td>Amy Cuddy</td>\n",
       "      <td>June 2012</td>\n",
       "      <td>64000000</td>\n",
       "      <td>1900000</td>\n",
       "      <td>https://ted.com/talks/amy_cuddy_your_body_lang...</td>\n",
       "    </tr>\n",
       "    <tr>\n",
       "      <th>2958</th>\n",
       "      <td>Inside the mind of a master procrastinator</td>\n",
       "      <td>Tim Urban</td>\n",
       "      <td>February 2016</td>\n",
       "      <td>60000000</td>\n",
       "      <td>1800000</td>\n",
       "      <td>https://ted.com/talks/tim_urban_inside_the_min...</td>\n",
       "    </tr>\n",
       "    <tr>\n",
       "      <th>4605</th>\n",
       "      <td>The power of vulnerability</td>\n",
       "      <td>Brené Brown</td>\n",
       "      <td>June 2010</td>\n",
       "      <td>56000000</td>\n",
       "      <td>1700000</td>\n",
       "      <td>https://ted.com/talks/brene_brown_the_power_of...</td>\n",
       "    </tr>\n",
       "    <tr>\n",
       "      <th>4765</th>\n",
       "      <td>How great leaders inspire action</td>\n",
       "      <td>Simon Sinek</td>\n",
       "      <td>September 2009</td>\n",
       "      <td>57000000</td>\n",
       "      <td>1700000</td>\n",
       "      <td>https://ted.com/talks/simon_sinek_how_great_le...</td>\n",
       "    </tr>\n",
       "    <tr>\n",
       "      <th>3504</th>\n",
       "      <td>How to speak so that people want to listen</td>\n",
       "      <td>Julian Treasure</td>\n",
       "      <td>June 2013</td>\n",
       "      <td>49000000</td>\n",
       "      <td>1400000</td>\n",
       "      <td>https://ted.com/talks/julian_treasure_how_to_s...</td>\n",
       "    </tr>\n",
       "    <tr>\n",
       "      <th>2168</th>\n",
       "      <td>My philosophy for a happy life</td>\n",
       "      <td>Sam Berns</td>\n",
       "      <td>October 2013</td>\n",
       "      <td>43000000</td>\n",
       "      <td>1300000</td>\n",
       "      <td>https://ted.com/talks/sam_berns_my_philosophy_...</td>\n",
       "    </tr>\n",
       "    <tr>\n",
       "      <th>3251</th>\n",
       "      <td>The next outbreak? We're not ready</td>\n",
       "      <td>Bill Gates</td>\n",
       "      <td>March 2015</td>\n",
       "      <td>43000000</td>\n",
       "      <td>1300000</td>\n",
       "      <td>https://ted.com/talks/bill_gates_the_next_outb...</td>\n",
       "    </tr>\n",
       "    <tr>\n",
       "      <th>3017</th>\n",
       "      <td>What makes a good life? Lessons from the longe...</td>\n",
       "      <td>Robert Waldinger</td>\n",
       "      <td>November 2015</td>\n",
       "      <td>41000000</td>\n",
       "      <td>1200000</td>\n",
       "      <td>https://ted.com/talks/robert_waldinger_what_ma...</td>\n",
       "    </tr>\n",
       "    <tr>\n",
       "      <th>4990</th>\n",
       "      <td>10 things you didn't know about orgasm</td>\n",
       "      <td>Mary Roach</td>\n",
       "      <td>February 2009</td>\n",
       "      <td>37000000</td>\n",
       "      <td>1100000</td>\n",
       "      <td>https://ted.com/talks/mary_roach_10_things_you...</td>\n",
       "    </tr>\n",
       "  </tbody>\n",
       "</table>\n",
       "</div>"
      ],
      "text/plain": [
       "                                                  title            author  \\\n",
       "5436                        Do schools kill creativity?  Sir Ken Robinson   \n",
       "4084           Your body language may shape who you are         Amy Cuddy   \n",
       "2958         Inside the mind of a master procrastinator         Tim Urban   \n",
       "4605                         The power of vulnerability       Brené Brown   \n",
       "4765                   How great leaders inspire action       Simon Sinek   \n",
       "3504         How to speak so that people want to listen   Julian Treasure   \n",
       "2168                     My philosophy for a happy life         Sam Berns   \n",
       "3251                 The next outbreak? We're not ready        Bill Gates   \n",
       "3017  What makes a good life? Lessons from the longe...  Robert Waldinger   \n",
       "4990             10 things you didn't know about orgasm        Mary Roach   \n",
       "\n",
       "                date     views    likes  \\\n",
       "5436   February 2006  72000000  2100000   \n",
       "4084       June 2012  64000000  1900000   \n",
       "2958   February 2016  60000000  1800000   \n",
       "4605       June 2010  56000000  1700000   \n",
       "4765  September 2009  57000000  1700000   \n",
       "3504       June 2013  49000000  1400000   \n",
       "2168    October 2013  43000000  1300000   \n",
       "3251      March 2015  43000000  1300000   \n",
       "3017   November 2015  41000000  1200000   \n",
       "4990   February 2009  37000000  1100000   \n",
       "\n",
       "                                                   link  \n",
       "5436  https://ted.com/talks/sir_ken_robinson_do_scho...  \n",
       "4084  https://ted.com/talks/amy_cuddy_your_body_lang...  \n",
       "2958  https://ted.com/talks/tim_urban_inside_the_min...  \n",
       "4605  https://ted.com/talks/brene_brown_the_power_of...  \n",
       "4765  https://ted.com/talks/simon_sinek_how_great_le...  \n",
       "3504  https://ted.com/talks/julian_treasure_how_to_s...  \n",
       "2168  https://ted.com/talks/sam_berns_my_philosophy_...  \n",
       "3251  https://ted.com/talks/bill_gates_the_next_outb...  \n",
       "3017  https://ted.com/talks/robert_waldinger_what_ma...  \n",
       "4990  https://ted.com/talks/mary_roach_10_things_you...  "
      ]
     },
     "execution_count": 137,
     "metadata": {},
     "output_type": "execute_result"
    }
   ],
   "source": [
    "raw_data.sort_values(['likes'],ascending=False).head(10)"
   ]
  },
  {
   "cell_type": "markdown",
   "id": "7058a030",
   "metadata": {},
   "source": [
    "### Checking Duplicate Values"
   ]
  },
  {
   "cell_type": "code",
   "execution_count": 5,
   "id": "1f50fc5d",
   "metadata": {
    "scrolled": true
   },
   "outputs": [
    {
     "data": {
      "text/plain": [
       "0"
      ]
     },
     "execution_count": 5,
     "metadata": {},
     "output_type": "execute_result"
    }
   ],
   "source": [
    "len(raw_data[raw_data.duplicated() == True])"
   ]
  },
  {
   "cell_type": "markdown",
   "id": "75694034",
   "metadata": {},
   "source": [
    "### Checking Each Columns Datatypes"
   ]
  },
  {
   "cell_type": "code",
   "execution_count": 6,
   "id": "c95f3c09",
   "metadata": {},
   "outputs": [
    {
     "name": "stdout",
     "output_type": "stream",
     "text": [
      "<class 'pandas.core.frame.DataFrame'>\n",
      "RangeIndex: 5440 entries, 0 to 5439\n",
      "Data columns (total 6 columns):\n",
      " #   Column  Non-Null Count  Dtype \n",
      "---  ------  --------------  ----- \n",
      " 0   title   5440 non-null   object\n",
      " 1   author  5439 non-null   object\n",
      " 2   date    5440 non-null   object\n",
      " 3   views   5440 non-null   int64 \n",
      " 4   likes   5440 non-null   int64 \n",
      " 5   link    5440 non-null   object\n",
      "dtypes: int64(2), object(4)\n",
      "memory usage: 255.1+ KB\n"
     ]
    }
   ],
   "source": [
    "raw_data.info()"
   ]
  },
  {
   "cell_type": "code",
   "execution_count": 7,
   "id": "bc16c155",
   "metadata": {},
   "outputs": [
    {
     "data": {
      "text/html": [
       "<div>\n",
       "<style scoped>\n",
       "    .dataframe tbody tr th:only-of-type {\n",
       "        vertical-align: middle;\n",
       "    }\n",
       "\n",
       "    .dataframe tbody tr th {\n",
       "        vertical-align: top;\n",
       "    }\n",
       "\n",
       "    .dataframe thead th {\n",
       "        text-align: right;\n",
       "    }\n",
       "</style>\n",
       "<table border=\"1\" class=\"dataframe\">\n",
       "  <thead>\n",
       "    <tr style=\"text-align: right;\">\n",
       "      <th></th>\n",
       "      <th>views</th>\n",
       "      <th>likes</th>\n",
       "    </tr>\n",
       "  </thead>\n",
       "  <tbody>\n",
       "    <tr>\n",
       "      <th>count</th>\n",
       "      <td>5,440.00</td>\n",
       "      <td>5,440.00</td>\n",
       "    </tr>\n",
       "    <tr>\n",
       "      <th>mean</th>\n",
       "      <td>2,061,575.96</td>\n",
       "      <td>62,607.62</td>\n",
       "    </tr>\n",
       "    <tr>\n",
       "      <th>std</th>\n",
       "      <td>3,567,097.77</td>\n",
       "      <td>107,646.77</td>\n",
       "    </tr>\n",
       "    <tr>\n",
       "      <th>min</th>\n",
       "      <td>532.00</td>\n",
       "      <td>15.00</td>\n",
       "    </tr>\n",
       "    <tr>\n",
       "      <th>25%</th>\n",
       "      <td>670,750.00</td>\n",
       "      <td>20,000.00</td>\n",
       "    </tr>\n",
       "    <tr>\n",
       "      <th>50%</th>\n",
       "      <td>1,300,000.00</td>\n",
       "      <td>40,500.00</td>\n",
       "    </tr>\n",
       "    <tr>\n",
       "      <th>75%</th>\n",
       "      <td>2,100,000.00</td>\n",
       "      <td>65,000.00</td>\n",
       "    </tr>\n",
       "    <tr>\n",
       "      <th>max</th>\n",
       "      <td>72,000,000.00</td>\n",
       "      <td>2,100,000.00</td>\n",
       "    </tr>\n",
       "  </tbody>\n",
       "</table>\n",
       "</div>"
      ],
      "text/plain": [
       "                     views                likes\n",
       "count             5,440.00             5,440.00\n",
       "mean          2,061,575.96            62,607.62\n",
       "std           3,567,097.77           107,646.77\n",
       "min                 532.00                15.00\n",
       "25%             670,750.00            20,000.00\n",
       "50%           1,300,000.00            40,500.00\n",
       "75%           2,100,000.00            65,000.00\n",
       "max          72,000,000.00         2,100,000.00"
      ]
     },
     "execution_count": 7,
     "metadata": {},
     "output_type": "execute_result"
    }
   ],
   "source": [
    "raw_data.describe()"
   ]
  },
  {
   "cell_type": "markdown",
   "id": "52d001d8",
   "metadata": {},
   "source": [
    "### Dropping the missing value and unnecessary column"
   ]
  },
  {
   "cell_type": "code",
   "execution_count": 8,
   "id": "8d1a68fc",
   "metadata": {},
   "outputs": [],
   "source": [
    "data_cleaned = raw_data.dropna()\n",
    "data_cleaned = data_cleaned.drop('link',axis=1)"
   ]
  },
  {
   "cell_type": "code",
   "execution_count": 9,
   "id": "58a3b869",
   "metadata": {},
   "outputs": [
    {
     "data": {
      "text/plain": [
       "title     0\n",
       "author    0\n",
       "date      0\n",
       "views     0\n",
       "likes     0\n",
       "dtype: int64"
      ]
     },
     "execution_count": 9,
     "metadata": {},
     "output_type": "execute_result"
    }
   ],
   "source": [
    "#Checking missing values\n",
    "data_cleaned.isna().sum()"
   ]
  },
  {
   "cell_type": "code",
   "execution_count": 10,
   "id": "6c290e70",
   "metadata": {},
   "outputs": [
    {
     "data": {
      "image/png": "[encoded data removed]",
      "text/plain": [
       "<Figure size 432x288 with 1 Axes>"
      ]
     },
     "metadata": {},
     "output_type": "display_data"
    }
   ],
   "source": [
    "#Correlation between views and likes\n",
    "plt.scatter(data_cleaned['views'],data_cleaned['likes'])\n",
    "plt.xlabel('Views')\n",
    "plt.ylabel('Likes')\n",
    "plt.title('Views and Likes (in Million)')\n",
    "plt.show()"
   ]
  },
  {
   "cell_type": "markdown",
   "id": "f56ff64e",
   "metadata": {},
   "source": [
    "Looks likes a straight line. Which meant that as the views goes up, the likes count goes up too!"
   ]
  },
  {
   "cell_type": "markdown",
   "id": "713de4d3",
   "metadata": {},
   "source": [
    "### Extracting Year and Month from the Date Column"
   ]
  },
  {
   "cell_type": "code",
   "execution_count": 11,
   "id": "539d920e",
   "metadata": {},
   "outputs": [
    {
     "data": {
      "text/html": [
       "<div>\n",
       "<style scoped>\n",
       "    .dataframe tbody tr th:only-of-type {\n",
       "        vertical-align: middle;\n",
       "    }\n",
       "\n",
       "    .dataframe tbody tr th {\n",
       "        vertical-align: top;\n",
       "    }\n",
       "\n",
       "    .dataframe thead th {\n",
       "        text-align: right;\n",
       "    }\n",
       "</style>\n",
       "<table border=\"1\" class=\"dataframe\">\n",
       "  <thead>\n",
       "    <tr style=\"text-align: right;\">\n",
       "      <th></th>\n",
       "      <th>title</th>\n",
       "      <th>author</th>\n",
       "      <th>date</th>\n",
       "      <th>views</th>\n",
       "      <th>likes</th>\n",
       "    </tr>\n",
       "  </thead>\n",
       "  <tbody>\n",
       "    <tr>\n",
       "      <th>0</th>\n",
       "      <td>Climate action needs new frontline leadership</td>\n",
       "      <td>Ozawa Bineshi Albert</td>\n",
       "      <td>2021-12-01</td>\n",
       "      <td>404000</td>\n",
       "      <td>12000</td>\n",
       "    </tr>\n",
       "    <tr>\n",
       "      <th>1</th>\n",
       "      <td>The dark history of the overthrow of Hawaii</td>\n",
       "      <td>Sydney Iaukea</td>\n",
       "      <td>2022-02-01</td>\n",
       "      <td>214000</td>\n",
       "      <td>6400</td>\n",
       "    </tr>\n",
       "    <tr>\n",
       "      <th>2</th>\n",
       "      <td>How play can spark new ideas for your business</td>\n",
       "      <td>Martin Reeves</td>\n",
       "      <td>2021-09-01</td>\n",
       "      <td>412000</td>\n",
       "      <td>12000</td>\n",
       "    </tr>\n",
       "    <tr>\n",
       "      <th>3</th>\n",
       "      <td>Why is China appointing judges to combat clima...</td>\n",
       "      <td>James K. Thornton</td>\n",
       "      <td>2021-10-01</td>\n",
       "      <td>427000</td>\n",
       "      <td>12000</td>\n",
       "    </tr>\n",
       "    <tr>\n",
       "      <th>4</th>\n",
       "      <td>Cement's carbon problem — and 2 ways to fix it</td>\n",
       "      <td>Mahendra Singhi</td>\n",
       "      <td>2021-10-01</td>\n",
       "      <td>2400</td>\n",
       "      <td>72</td>\n",
       "    </tr>\n",
       "  </tbody>\n",
       "</table>\n",
       "</div>"
      ],
      "text/plain": [
       "                                               title                author  \\\n",
       "0      Climate action needs new frontline leadership  Ozawa Bineshi Albert   \n",
       "1        The dark history of the overthrow of Hawaii         Sydney Iaukea   \n",
       "2     How play can spark new ideas for your business         Martin Reeves   \n",
       "3  Why is China appointing judges to combat clima...     James K. Thornton   \n",
       "4     Cement's carbon problem — and 2 ways to fix it       Mahendra Singhi   \n",
       "\n",
       "        date   views  likes  \n",
       "0 2021-12-01  404000  12000  \n",
       "1 2022-02-01  214000   6400  \n",
       "2 2021-09-01  412000  12000  \n",
       "3 2021-10-01  427000  12000  \n",
       "4 2021-10-01    2400     72  "
      ]
     },
     "execution_count": 11,
     "metadata": {},
     "output_type": "execute_result"
    }
   ],
   "source": [
    "data_cleaned['date'] = pd.to_datetime(data_cleaned['date'])\n",
    "data_cleaned.head()"
   ]
  },
  {
   "cell_type": "code",
   "execution_count": 12,
   "id": "b83a0ed2",
   "metadata": {},
   "outputs": [
    {
     "data": {
      "text/html": [
       "<div>\n",
       "<style scoped>\n",
       "    .dataframe tbody tr th:only-of-type {\n",
       "        vertical-align: middle;\n",
       "    }\n",
       "\n",
       "    .dataframe tbody tr th {\n",
       "        vertical-align: top;\n",
       "    }\n",
       "\n",
       "    .dataframe thead th {\n",
       "        text-align: right;\n",
       "    }\n",
       "</style>\n",
       "<table border=\"1\" class=\"dataframe\">\n",
       "  <thead>\n",
       "    <tr style=\"text-align: right;\">\n",
       "      <th></th>\n",
       "      <th>title</th>\n",
       "      <th>author</th>\n",
       "      <th>views</th>\n",
       "      <th>likes</th>\n",
       "      <th>year</th>\n",
       "      <th>month</th>\n",
       "    </tr>\n",
       "  </thead>\n",
       "  <tbody>\n",
       "    <tr>\n",
       "      <th>0</th>\n",
       "      <td>Climate action needs new frontline leadership</td>\n",
       "      <td>Ozawa Bineshi Albert</td>\n",
       "      <td>404000</td>\n",
       "      <td>12000</td>\n",
       "      <td>2021</td>\n",
       "      <td>12</td>\n",
       "    </tr>\n",
       "    <tr>\n",
       "      <th>1</th>\n",
       "      <td>The dark history of the overthrow of Hawaii</td>\n",
       "      <td>Sydney Iaukea</td>\n",
       "      <td>214000</td>\n",
       "      <td>6400</td>\n",
       "      <td>2022</td>\n",
       "      <td>2</td>\n",
       "    </tr>\n",
       "    <tr>\n",
       "      <th>2</th>\n",
       "      <td>How play can spark new ideas for your business</td>\n",
       "      <td>Martin Reeves</td>\n",
       "      <td>412000</td>\n",
       "      <td>12000</td>\n",
       "      <td>2021</td>\n",
       "      <td>9</td>\n",
       "    </tr>\n",
       "    <tr>\n",
       "      <th>3</th>\n",
       "      <td>Why is China appointing judges to combat clima...</td>\n",
       "      <td>James K. Thornton</td>\n",
       "      <td>427000</td>\n",
       "      <td>12000</td>\n",
       "      <td>2021</td>\n",
       "      <td>10</td>\n",
       "    </tr>\n",
       "    <tr>\n",
       "      <th>4</th>\n",
       "      <td>Cement's carbon problem — and 2 ways to fix it</td>\n",
       "      <td>Mahendra Singhi</td>\n",
       "      <td>2400</td>\n",
       "      <td>72</td>\n",
       "      <td>2021</td>\n",
       "      <td>10</td>\n",
       "    </tr>\n",
       "  </tbody>\n",
       "</table>\n",
       "</div>"
      ],
      "text/plain": [
       "                                               title                author  \\\n",
       "0      Climate action needs new frontline leadership  Ozawa Bineshi Albert   \n",
       "1        The dark history of the overthrow of Hawaii         Sydney Iaukea   \n",
       "2     How play can spark new ideas for your business         Martin Reeves   \n",
       "3  Why is China appointing judges to combat clima...     James K. Thornton   \n",
       "4     Cement's carbon problem — and 2 ways to fix it       Mahendra Singhi   \n",
       "\n",
       "    views  likes  year  month  \n",
       "0  404000  12000  2021     12  \n",
       "1  214000   6400  2022      2  \n",
       "2  412000  12000  2021      9  \n",
       "3  427000  12000  2021     10  \n",
       "4    2400     72  2021     10  "
      ]
     },
     "execution_count": 12,
     "metadata": {},
     "output_type": "execute_result"
    }
   ],
   "source": [
    "#Extracting the month and year from the date column. And the dropping the date column\n",
    "data_cleaned['year'] = pd.DatetimeIndex(data_cleaned['date']).year\n",
    "data_cleaned['month'] = pd.DatetimeIndex(data_cleaned['date']).month\n",
    "data_cleaned = data_cleaned.drop('date',axis=1)\n",
    "data_cleaned.head()"
   ]
  },
  {
   "cell_type": "code",
   "execution_count": 13,
   "id": "d00262ea",
   "metadata": {},
   "outputs": [
    {
     "data": {
      "text/plain": [
       "array(['title', 'author', 'views', 'likes', 'year', 'month'], dtype=object)"
      ]
     },
     "execution_count": 13,
     "metadata": {},
     "output_type": "execute_result"
    }
   ],
   "source": [
    "#Rearranging the Columns\n",
    "data_cleaned.columns.values"
   ]
  },
  {
   "cell_type": "code",
   "execution_count": 14,
   "id": "9c529529",
   "metadata": {},
   "outputs": [
    {
     "data": {
      "text/html": [
       "<div>\n",
       "<style scoped>\n",
       "    .dataframe tbody tr th:only-of-type {\n",
       "        vertical-align: middle;\n",
       "    }\n",
       "\n",
       "    .dataframe tbody tr th {\n",
       "        vertical-align: top;\n",
       "    }\n",
       "\n",
       "    .dataframe thead th {\n",
       "        text-align: right;\n",
       "    }\n",
       "</style>\n",
       "<table border=\"1\" class=\"dataframe\">\n",
       "  <thead>\n",
       "    <tr style=\"text-align: right;\">\n",
       "      <th></th>\n",
       "      <th>title</th>\n",
       "      <th>author</th>\n",
       "      <th>month</th>\n",
       "      <th>year</th>\n",
       "      <th>likes</th>\n",
       "      <th>views</th>\n",
       "    </tr>\n",
       "  </thead>\n",
       "  <tbody>\n",
       "    <tr>\n",
       "      <th>0</th>\n",
       "      <td>Climate action needs new frontline leadership</td>\n",
       "      <td>Ozawa Bineshi Albert</td>\n",
       "      <td>12</td>\n",
       "      <td>2021</td>\n",
       "      <td>12000</td>\n",
       "      <td>404000</td>\n",
       "    </tr>\n",
       "    <tr>\n",
       "      <th>1</th>\n",
       "      <td>The dark history of the overthrow of Hawaii</td>\n",
       "      <td>Sydney Iaukea</td>\n",
       "      <td>2</td>\n",
       "      <td>2022</td>\n",
       "      <td>6400</td>\n",
       "      <td>214000</td>\n",
       "    </tr>\n",
       "    <tr>\n",
       "      <th>2</th>\n",
       "      <td>How play can spark new ideas for your business</td>\n",
       "      <td>Martin Reeves</td>\n",
       "      <td>9</td>\n",
       "      <td>2021</td>\n",
       "      <td>12000</td>\n",
       "      <td>412000</td>\n",
       "    </tr>\n",
       "    <tr>\n",
       "      <th>3</th>\n",
       "      <td>Why is China appointing judges to combat clima...</td>\n",
       "      <td>James K. Thornton</td>\n",
       "      <td>10</td>\n",
       "      <td>2021</td>\n",
       "      <td>12000</td>\n",
       "      <td>427000</td>\n",
       "    </tr>\n",
       "    <tr>\n",
       "      <th>4</th>\n",
       "      <td>Cement's carbon problem — and 2 ways to fix it</td>\n",
       "      <td>Mahendra Singhi</td>\n",
       "      <td>10</td>\n",
       "      <td>2021</td>\n",
       "      <td>72</td>\n",
       "      <td>2400</td>\n",
       "    </tr>\n",
       "  </tbody>\n",
       "</table>\n",
       "</div>"
      ],
      "text/plain": [
       "                                               title                author  \\\n",
       "0      Climate action needs new frontline leadership  Ozawa Bineshi Albert   \n",
       "1        The dark history of the overthrow of Hawaii         Sydney Iaukea   \n",
       "2     How play can spark new ideas for your business         Martin Reeves   \n",
       "3  Why is China appointing judges to combat clima...     James K. Thornton   \n",
       "4     Cement's carbon problem — and 2 ways to fix it       Mahendra Singhi   \n",
       "\n",
       "   month  year  likes   views  \n",
       "0     12  2021  12000  404000  \n",
       "1      2  2022   6400  214000  \n",
       "2      9  2021  12000  412000  \n",
       "3     10  2021  12000  427000  \n",
       "4     10  2021     72    2400  "
      ]
     },
     "execution_count": 14,
     "metadata": {},
     "output_type": "execute_result"
    }
   ],
   "source": [
    "data_cleaned = data_cleaned[['title', 'author', 'month','year','likes','views']]\n",
    "data_cleaned.head()"
   ]
  },
  {
   "cell_type": "markdown",
   "id": "8b644dec",
   "metadata": {},
   "source": [
    "### Finding Average Likes and Views from Each Year"
   ]
  },
  {
   "cell_type": "code",
   "execution_count": 15,
   "id": "d675dc0a",
   "metadata": {},
   "outputs": [
    {
     "data": {
      "text/plain": [
       "2019    544\n",
       "2020    501\n",
       "2017    495\n",
       "2018    473\n",
       "2016    399\n",
       "2021    390\n",
       "2013    388\n",
       "2015    376\n",
       "2014    357\n",
       "2012    302\n",
       "2011    271\n",
       "2010    267\n",
       "2009    233\n",
       "2007    113\n",
       "2008     84\n",
       "2005     65\n",
       "2006     49\n",
       "2003     34\n",
       "2004     33\n",
       "2002     26\n",
       "2022     20\n",
       "1998      6\n",
       "2001      5\n",
       "1970      2\n",
       "1990      1\n",
       "1994      1\n",
       "1991      1\n",
       "1983      1\n",
       "1972      1\n",
       "1984      1\n",
       "Name: year, dtype: int64"
      ]
     },
     "execution_count": 15,
     "metadata": {},
     "output_type": "execute_result"
    }
   ],
   "source": [
    "#Calculating how many videos are posted each year\n",
    "data_cleaned['year'].value_counts()"
   ]
  },
  {
   "cell_type": "code",
   "execution_count": 16,
   "id": "074ed963",
   "metadata": {
    "scrolled": false
   },
   "outputs": [
    {
     "data": {
      "text/html": [
       "<div>\n",
       "<style scoped>\n",
       "    .dataframe tbody tr th:only-of-type {\n",
       "        vertical-align: middle;\n",
       "    }\n",
       "\n",
       "    .dataframe tbody tr th {\n",
       "        vertical-align: top;\n",
       "    }\n",
       "\n",
       "    .dataframe thead th {\n",
       "        text-align: right;\n",
       "    }\n",
       "</style>\n",
       "<table border=\"1\" class=\"dataframe\">\n",
       "  <thead>\n",
       "    <tr style=\"text-align: right;\">\n",
       "      <th></th>\n",
       "      <th>month</th>\n",
       "      <th>year</th>\n",
       "      <th>likes</th>\n",
       "      <th>views</th>\n",
       "    </tr>\n",
       "  </thead>\n",
       "  <tbody>\n",
       "    <tr>\n",
       "      <th>count</th>\n",
       "      <td>26.00</td>\n",
       "      <td>26.00</td>\n",
       "      <td>26.00</td>\n",
       "      <td>26.00</td>\n",
       "    </tr>\n",
       "    <tr>\n",
       "      <th>mean</th>\n",
       "      <td>2.08</td>\n",
       "      <td>2,002.00</td>\n",
       "      <td>35,219.23</td>\n",
       "      <td>1,170,846.15</td>\n",
       "    </tr>\n",
       "    <tr>\n",
       "      <th>std</th>\n",
       "      <td>0.27</td>\n",
       "      <td>0.00</td>\n",
       "      <td>36,965.74</td>\n",
       "      <td>1,221,136.97</td>\n",
       "    </tr>\n",
       "    <tr>\n",
       "      <th>min</th>\n",
       "      <td>2.00</td>\n",
       "      <td>2,002.00</td>\n",
       "      <td>6,700.00</td>\n",
       "      <td>225,000.00</td>\n",
       "    </tr>\n",
       "    <tr>\n",
       "      <th>25%</th>\n",
       "      <td>2.00</td>\n",
       "      <td>2,002.00</td>\n",
       "      <td>18,250.00</td>\n",
       "      <td>629,000.00</td>\n",
       "    </tr>\n",
       "    <tr>\n",
       "      <th>50%</th>\n",
       "      <td>2.00</td>\n",
       "      <td>2,002.00</td>\n",
       "      <td>25,000.00</td>\n",
       "      <td>858,500.00</td>\n",
       "    </tr>\n",
       "    <tr>\n",
       "      <th>75%</th>\n",
       "      <td>2.00</td>\n",
       "      <td>2,002.00</td>\n",
       "      <td>33,750.00</td>\n",
       "      <td>1,100,000.00</td>\n",
       "    </tr>\n",
       "    <tr>\n",
       "      <th>max</th>\n",
       "      <td>3.00</td>\n",
       "      <td>2,002.00</td>\n",
       "      <td>192,000.00</td>\n",
       "      <td>6,400,000.00</td>\n",
       "    </tr>\n",
       "  </tbody>\n",
       "</table>\n",
       "</div>"
      ],
      "text/plain": [
       "                     month                 year                likes  \\\n",
       "count                26.00                26.00                26.00   \n",
       "mean                  2.08             2,002.00            35,219.23   \n",
       "std                   0.27                 0.00            36,965.74   \n",
       "min                   2.00             2,002.00             6,700.00   \n",
       "25%                   2.00             2,002.00            18,250.00   \n",
       "50%                   2.00             2,002.00            25,000.00   \n",
       "75%                   2.00             2,002.00            33,750.00   \n",
       "max                   3.00             2,002.00           192,000.00   \n",
       "\n",
       "                     views  \n",
       "count                26.00  \n",
       "mean          1,170,846.15  \n",
       "std           1,221,136.97  \n",
       "min             225,000.00  \n",
       "25%             629,000.00  \n",
       "50%             858,500.00  \n",
       "75%           1,100,000.00  \n",
       "max           6,400,000.00  "
      ]
     },
     "execution_count": 16,
     "metadata": {},
     "output_type": "execute_result"
    }
   ],
   "source": [
    "#we can check each year like this\n",
    "#Lets say we want to check TedTalks that occur in 2002\n",
    "data_cleaned[data_cleaned['year'] ==  2002].describe()"
   ]
  },
  {
   "cell_type": "markdown",
   "id": "8c683e29",
   "metadata": {},
   "source": [
    "- From the table above, we got that the average views for Ted Talks video in 2002 is 1,170,846. And the average likes is 35,219."
   ]
  },
  {
   "cell_type": "code",
   "execution_count": 17,
   "id": "84771a87",
   "metadata": {},
   "outputs": [
    {
     "data": {
      "text/html": [
       "<div>\n",
       "<style scoped>\n",
       "    .dataframe tbody tr th:only-of-type {\n",
       "        vertical-align: middle;\n",
       "    }\n",
       "\n",
       "    .dataframe tbody tr th {\n",
       "        vertical-align: top;\n",
       "    }\n",
       "\n",
       "    .dataframe thead th {\n",
       "        text-align: right;\n",
       "    }\n",
       "</style>\n",
       "<table border=\"1\" class=\"dataframe\">\n",
       "  <thead>\n",
       "    <tr style=\"text-align: right;\">\n",
       "      <th></th>\n",
       "      <th>month</th>\n",
       "      <th>year</th>\n",
       "      <th>likes</th>\n",
       "      <th>views</th>\n",
       "    </tr>\n",
       "  </thead>\n",
       "  <tbody>\n",
       "    <tr>\n",
       "      <th>count</th>\n",
       "      <td>473.00</td>\n",
       "      <td>473.00</td>\n",
       "      <td>473.00</td>\n",
       "      <td>473.00</td>\n",
       "    </tr>\n",
       "    <tr>\n",
       "      <th>mean</th>\n",
       "      <td>7.58</td>\n",
       "      <td>2,018.00</td>\n",
       "      <td>52,159.60</td>\n",
       "      <td>1,716,400.84</td>\n",
       "    </tr>\n",
       "    <tr>\n",
       "      <th>std</th>\n",
       "      <td>3.27</td>\n",
       "      <td>0.00</td>\n",
       "      <td>54,188.66</td>\n",
       "      <td>1,769,994.79</td>\n",
       "    </tr>\n",
       "    <tr>\n",
       "      <th>min</th>\n",
       "      <td>1.00</td>\n",
       "      <td>2,018.00</td>\n",
       "      <td>40.00</td>\n",
       "      <td>1,300.00</td>\n",
       "    </tr>\n",
       "    <tr>\n",
       "      <th>25%</th>\n",
       "      <td>4.00</td>\n",
       "      <td>2,018.00</td>\n",
       "      <td>10,000.00</td>\n",
       "      <td>352,000.00</td>\n",
       "    </tr>\n",
       "    <tr>\n",
       "      <th>50%</th>\n",
       "      <td>8.00</td>\n",
       "      <td>2,018.00</td>\n",
       "      <td>48,000.00</td>\n",
       "      <td>1,600,000.00</td>\n",
       "    </tr>\n",
       "    <tr>\n",
       "      <th>75%</th>\n",
       "      <td>11.00</td>\n",
       "      <td>2,018.00</td>\n",
       "      <td>68,000.00</td>\n",
       "      <td>2,200,000.00</td>\n",
       "    </tr>\n",
       "    <tr>\n",
       "      <th>max</th>\n",
       "      <td>12.00</td>\n",
       "      <td>2,018.00</td>\n",
       "      <td>435,000.00</td>\n",
       "      <td>14,000,000.00</td>\n",
       "    </tr>\n",
       "  </tbody>\n",
       "</table>\n",
       "</div>"
      ],
      "text/plain": [
       "                     month                 year                likes  \\\n",
       "count               473.00               473.00               473.00   \n",
       "mean                  7.58             2,018.00            52,159.60   \n",
       "std                   3.27                 0.00            54,188.66   \n",
       "min                   1.00             2,018.00                40.00   \n",
       "25%                   4.00             2,018.00            10,000.00   \n",
       "50%                   8.00             2,018.00            48,000.00   \n",
       "75%                  11.00             2,018.00            68,000.00   \n",
       "max                  12.00             2,018.00           435,000.00   \n",
       "\n",
       "                     views  \n",
       "count               473.00  \n",
       "mean          1,716,400.84  \n",
       "std           1,769,994.79  \n",
       "min               1,300.00  \n",
       "25%             352,000.00  \n",
       "50%           1,600,000.00  \n",
       "75%           2,200,000.00  \n",
       "max          14,000,000.00  "
      ]
     },
     "execution_count": 17,
     "metadata": {},
     "output_type": "execute_result"
    }
   ],
   "source": [
    "#or maybe more recent one, like 2018\n",
    "data_cleaned[data_cleaned['year'] ==  2018].describe()"
   ]
  },
  {
   "cell_type": "markdown",
   "id": "7757b419",
   "metadata": {},
   "source": [
    "- In 2018, the average views for each video is 1,716,400. While the average likes is 52,159"
   ]
  },
  {
   "cell_type": "code",
   "execution_count": 18,
   "id": "655babd0",
   "metadata": {},
   "outputs": [],
   "source": [
    "#making new tables\n",
    "table = {'views':[],'likes':[], 'month':[],'year':[]}\n",
    "average_table = pd.DataFrame(table)"
   ]
  },
  {
   "cell_type": "code",
   "execution_count": 19,
   "id": "90964e58",
   "metadata": {},
   "outputs": [
    {
     "name": "stderr",
     "output_type": "stream",
     "text": [
      "C:\\Users\\user\\AppData\\Local\\Temp/ipykernel_8344/784053872.py:3: FutureWarning: Dropping of nuisance columns in DataFrame reductions (with 'numeric_only=None') is deprecated; in a future version this will raise TypeError.  Select only valid columns before calling the reduction.\n",
      "  average_table = average_table.append(data_cleaned[data_cleaned['year'] == i].mean(),ignore_index=True)\n"
     ]
    },
    {
     "data": {
      "text/html": [
       "<div>\n",
       "<style scoped>\n",
       "    .dataframe tbody tr th:only-of-type {\n",
       "        vertical-align: middle;\n",
       "    }\n",
       "\n",
       "    .dataframe tbody tr th {\n",
       "        vertical-align: top;\n",
       "    }\n",
       "\n",
       "    .dataframe thead th {\n",
       "        text-align: right;\n",
       "    }\n",
       "</style>\n",
       "<table border=\"1\" class=\"dataframe\">\n",
       "  <thead>\n",
       "    <tr style=\"text-align: right;\">\n",
       "      <th></th>\n",
       "      <th>views</th>\n",
       "      <th>likes</th>\n",
       "      <th>month</th>\n",
       "      <th>year</th>\n",
       "      <th>author</th>\n",
       "      <th>title</th>\n",
       "    </tr>\n",
       "  </thead>\n",
       "  <tbody>\n",
       "    <tr>\n",
       "      <th>0</th>\n",
       "      <td>126,000.00</td>\n",
       "      <td>3,750.00</td>\n",
       "      <td>1.00</td>\n",
       "      <td>1,970.00</td>\n",
       "      <td>NaN</td>\n",
       "      <td>NaN</td>\n",
       "    </tr>\n",
       "    <tr>\n",
       "      <th>1</th>\n",
       "      <td>NaN</td>\n",
       "      <td>NaN</td>\n",
       "      <td>NaN</td>\n",
       "      <td>NaN</td>\n",
       "      <td>NaN</td>\n",
       "      <td>NaN</td>\n",
       "    </tr>\n",
       "    <tr>\n",
       "      <th>2</th>\n",
       "      <td>1,300,000.00</td>\n",
       "      <td>41,000.00</td>\n",
       "      <td>5.00</td>\n",
       "      <td>1,972.00</td>\n",
       "      <td>NaN</td>\n",
       "      <td>NaN</td>\n",
       "    </tr>\n",
       "    <tr>\n",
       "      <th>3</th>\n",
       "      <td>NaN</td>\n",
       "      <td>NaN</td>\n",
       "      <td>NaN</td>\n",
       "      <td>NaN</td>\n",
       "      <td>NaN</td>\n",
       "      <td>NaN</td>\n",
       "    </tr>\n",
       "    <tr>\n",
       "      <th>4</th>\n",
       "      <td>NaN</td>\n",
       "      <td>NaN</td>\n",
       "      <td>NaN</td>\n",
       "      <td>NaN</td>\n",
       "      <td>NaN</td>\n",
       "      <td>NaN</td>\n",
       "    </tr>\n",
       "  </tbody>\n",
       "</table>\n",
       "</div>"
      ],
      "text/plain": [
       "                 views                likes                month  \\\n",
       "0           126,000.00             3,750.00                 1.00   \n",
       "1                  NaN                  NaN                  NaN   \n",
       "2         1,300,000.00            41,000.00                 5.00   \n",
       "3                  NaN                  NaN                  NaN   \n",
       "4                  NaN                  NaN                  NaN   \n",
       "\n",
       "                  year  author  title  \n",
       "0             1,970.00     NaN    NaN  \n",
       "1                  NaN     NaN    NaN  \n",
       "2             1,972.00     NaN    NaN  \n",
       "3                  NaN     NaN    NaN  \n",
       "4                  NaN     NaN    NaN  "
      ]
     },
     "execution_count": 19,
     "metadata": {},
     "output_type": "execute_result"
    }
   ],
   "source": [
    "#inputing the average data in the table\n",
    "for i in range (1970,2023):\n",
    "    average_table = average_table.append(data_cleaned[data_cleaned['year'] == i].mean(),ignore_index=True)\n",
    "average_table.head()"
   ]
  },
  {
   "cell_type": "code",
   "execution_count": 20,
   "id": "c8ac17f4",
   "metadata": {},
   "outputs": [],
   "source": [
    "#dropping author and title column\n",
    "average_table = average_table.drop(['author','title','month'],axis=1)"
   ]
  },
  {
   "cell_type": "code",
   "execution_count": 21,
   "id": "df1aaea1",
   "metadata": {},
   "outputs": [
    {
     "data": {
      "text/plain": [
       "views    23\n",
       "likes    23\n",
       "year     23\n",
       "dtype: int64"
      ]
     },
     "execution_count": 21,
     "metadata": {},
     "output_type": "execute_result"
    }
   ],
   "source": [
    "#checking missing values in average_table\n",
    "average_table.isna().sum()"
   ]
  },
  {
   "cell_type": "code",
   "execution_count": 22,
   "id": "d70d8aa8",
   "metadata": {},
   "outputs": [
    {
     "data": {
      "text/plain": [
       "views    23\n",
       "likes    23\n",
       "year     23\n",
       "dtype: int64"
      ]
     },
     "execution_count": 22,
     "metadata": {},
     "output_type": "execute_result"
    }
   ],
   "source": [
    "average_table.isna().sum()"
   ]
  },
  {
   "cell_type": "code",
   "execution_count": 23,
   "id": "e539cc38",
   "metadata": {},
   "outputs": [],
   "source": [
    "#dropping missing value\n",
    "average_table = average_table.dropna()"
   ]
  },
  {
   "cell_type": "code",
   "execution_count": 24,
   "id": "1a2729ab",
   "metadata": {},
   "outputs": [
    {
     "data": {
      "text/plain": [
       "views    0\n",
       "likes    0\n",
       "year     0\n",
       "dtype: int64"
      ]
     },
     "execution_count": 24,
     "metadata": {},
     "output_type": "execute_result"
    }
   ],
   "source": [
    "#checking missing value\n",
    "average_table.isna().sum()"
   ]
  },
  {
   "cell_type": "code",
   "execution_count": 25,
   "id": "f9fcf0b5",
   "metadata": {},
   "outputs": [
    {
     "data": {
      "text/plain": [
       "0"
      ]
     },
     "execution_count": 25,
     "metadata": {},
     "output_type": "execute_result"
    }
   ],
   "source": [
    "#checking duplicates\n",
    "len(average_table[average_table.duplicated() == True])"
   ]
  },
  {
   "cell_type": "code",
   "execution_count": 26,
   "id": "7c26c067",
   "metadata": {},
   "outputs": [
    {
     "name": "stdout",
     "output_type": "stream",
     "text": [
      "<class 'pandas.core.frame.DataFrame'>\n",
      "Int64Index: 30 entries, 0 to 52\n",
      "Data columns (total 3 columns):\n",
      " #   Column  Non-Null Count  Dtype  \n",
      "---  ------  --------------  -----  \n",
      " 0   views   30 non-null     float64\n",
      " 1   likes   30 non-null     float64\n",
      " 2   year    30 non-null     float64\n",
      "dtypes: float64(3)\n",
      "memory usage: 960.0 bytes\n"
     ]
    }
   ],
   "source": [
    "average_table.info()"
   ]
  },
  {
   "cell_type": "code",
   "execution_count": 27,
   "id": "ebf6ef57",
   "metadata": {},
   "outputs": [],
   "source": [
    "data_types = {'year':int}\n",
    "average_table = average_table.astype(data_types)\n",
    "average_table = average_table.reset_index()"
   ]
  },
  {
   "cell_type": "code",
   "execution_count": 28,
   "id": "0da3ead3",
   "metadata": {
    "scrolled": true
   },
   "outputs": [],
   "source": [
    "average_table = average_table.drop('index',axis = 1)\n",
    "average_table = average_table[['year','views','likes']]"
   ]
  },
  {
   "cell_type": "markdown",
   "id": "07cce245",
   "metadata": {},
   "source": [
    "### Visualizing Views and Likes per Year"
   ]
  },
  {
   "cell_type": "code",
   "execution_count": 29,
   "id": "051d3155",
   "metadata": {},
   "outputs": [
    {
     "data": {
      "image/png": "[encoded data removed]",
      "text/plain": [
       "<Figure size 432x288 with 1 Axes>"
      ]
     },
     "metadata": {},
     "output_type": "display_data"
    }
   ],
   "source": [
    "#scatterplot\n",
    "plt.scatter(average_table['year'],average_table['views'])\n",
    "plt.xlabel('year')\n",
    "plt.ylabel('views')\n",
    "plt.show()"
   ]
  },
  {
   "cell_type": "code",
   "execution_count": 30,
   "id": "ac126677",
   "metadata": {
    "scrolled": false
   },
   "outputs": [
    {
     "data": {
      "image/png": "[encoded data removed]",
      "text/plain": [
       "<Figure size 432x288 with 1 Axes>"
      ]
     },
     "metadata": {},
     "output_type": "display_data"
    }
   ],
   "source": [
    "plt.plot(average_table['year'],average_table['views'])\n",
    "plt.xlabel('year')\n",
    "plt.ylabel('views (in millions)')\n",
    "plt.show()"
   ]
  },
  {
   "cell_type": "markdown",
   "id": "d4006efa",
   "metadata": {},
   "source": [
    "### How many TedTalks Videos are posted each year?"
   ]
  },
  {
   "cell_type": "code",
   "execution_count": 78,
   "id": "25f68de4",
   "metadata": {},
   "outputs": [
    {
     "data": {
      "text/html": [
       "<div>\n",
       "<style scoped>\n",
       "    .dataframe tbody tr th:only-of-type {\n",
       "        vertical-align: middle;\n",
       "    }\n",
       "\n",
       "    .dataframe tbody tr th {\n",
       "        vertical-align: top;\n",
       "    }\n",
       "\n",
       "    .dataframe thead th {\n",
       "        text-align: right;\n",
       "    }\n",
       "</style>\n",
       "<table border=\"1\" class=\"dataframe\">\n",
       "  <thead>\n",
       "    <tr style=\"text-align: right;\">\n",
       "      <th></th>\n",
       "      <th>year</th>\n",
       "      <th>video_counts</th>\n",
       "    </tr>\n",
       "  </thead>\n",
       "  <tbody>\n",
       "    <tr>\n",
       "      <th>0</th>\n",
       "      <td>2019</td>\n",
       "      <td>544</td>\n",
       "    </tr>\n",
       "    <tr>\n",
       "      <th>1</th>\n",
       "      <td>2020</td>\n",
       "      <td>501</td>\n",
       "    </tr>\n",
       "    <tr>\n",
       "      <th>2</th>\n",
       "      <td>2017</td>\n",
       "      <td>495</td>\n",
       "    </tr>\n",
       "    <tr>\n",
       "      <th>3</th>\n",
       "      <td>2018</td>\n",
       "      <td>473</td>\n",
       "    </tr>\n",
       "    <tr>\n",
       "      <th>4</th>\n",
       "      <td>2016</td>\n",
       "      <td>399</td>\n",
       "    </tr>\n",
       "  </tbody>\n",
       "</table>\n",
       "</div>"
      ],
      "text/plain": [
       "   year  video_counts\n",
       "0  2019           544\n",
       "1  2020           501\n",
       "2  2017           495\n",
       "3  2018           473\n",
       "4  2016           399"
      ]
     },
     "execution_count": 78,
     "metadata": {},
     "output_type": "execute_result"
    }
   ],
   "source": [
    "video_counts = data_cleaned['year'].value_counts()\n",
    "video_counts_year = pd.DataFrame(video_counts).reset_index()\n",
    "video_counts_year.columns = ['year','video_counts']\n",
    "video_counts_year.head()"
   ]
  },
  {
   "cell_type": "markdown",
   "id": "47191807",
   "metadata": {},
   "source": [
    "### Summary of Views (Each Year)"
   ]
  },
  {
   "cell_type": "code",
   "execution_count": 31,
   "id": "0b48b4ef",
   "metadata": {},
   "outputs": [
    {
     "data": {
      "text/plain": [
       "3696122.4285714286"
      ]
     },
     "execution_count": 31,
     "metadata": {},
     "output_type": "execute_result"
    }
   ],
   "source": [
    "views_table = average_table.drop('likes',axis=1)\n",
    "views_table['views'].max()"
   ]
  },
  {
   "cell_type": "code",
   "execution_count": 32,
   "id": "11150fda",
   "metadata": {},
   "outputs": [],
   "source": [
    "max_view = views_table['views'].max()\n",
    "avg_view = views_table['views'].mean()\n",
    "min_view = views_table['views'].min()"
   ]
  },
  {
   "cell_type": "code",
   "execution_count": 33,
   "id": "ae0e5a2b",
   "metadata": {},
   "outputs": [
    {
     "name": "stdout",
     "output_type": "stream",
     "text": [
      "The most view in a year for Ted Talks, with 3696122.4 views.\n",
      "Average view in each year from 1970-2022 is 1755508.4 views.\n",
      "The lowest view count in a year for Ted Talks video is 126000.0 views\n"
     ]
    }
   ],
   "source": [
    "#Printing max, avg, min views\n",
    "print(f'The most views in a year for Ted Talks, with {round(max_view,1)} views.')\n",
    "print(f'Average views in each year from 1970-2022 is {round(avg_view,1)} views.')\n",
    "print(f'The lowest views count in a year for Ted Talks video is {min_view} views')"
   ]
  },
  {
   "cell_type": "markdown",
   "id": "cd357da1",
   "metadata": {},
   "source": [
    "### When Maximum and Minimum view happens?"
   ]
  },
  {
   "cell_type": "code",
   "execution_count": 34,
   "id": "ede1d4af",
   "metadata": {},
   "outputs": [
    {
     "data": {
      "text/html": [
       "<div>\n",
       "<style scoped>\n",
       "    .dataframe tbody tr th:only-of-type {\n",
       "        vertical-align: middle;\n",
       "    }\n",
       "\n",
       "    .dataframe tbody tr th {\n",
       "        vertical-align: top;\n",
       "    }\n",
       "\n",
       "    .dataframe thead th {\n",
       "        text-align: right;\n",
       "    }\n",
       "</style>\n",
       "<table border=\"1\" class=\"dataframe\">\n",
       "  <thead>\n",
       "    <tr style=\"text-align: right;\">\n",
       "      <th></th>\n",
       "      <th>year</th>\n",
       "      <th>views</th>\n",
       "    </tr>\n",
       "  </thead>\n",
       "  <tbody>\n",
       "    <tr>\n",
       "      <th>13</th>\n",
       "      <td>2006</td>\n",
       "      <td>3,696,122.43</td>\n",
       "    </tr>\n",
       "  </tbody>\n",
       "</table>\n",
       "</div>"
      ],
      "text/plain": [
       "    year                views\n",
       "13  2006         3,696,122.43"
      ]
     },
     "execution_count": 34,
     "metadata": {},
     "output_type": "execute_result"
    }
   ],
   "source": [
    "#Maximum Views\n",
    "views_table[views_table['views'] == views_table['views'].max()]"
   ]
  },
  {
   "cell_type": "code",
   "execution_count": 35,
   "id": "b7229519",
   "metadata": {
    "scrolled": true
   },
   "outputs": [
    {
     "data": {
      "text/html": [
       "<div>\n",
       "<style scoped>\n",
       "    .dataframe tbody tr th:only-of-type {\n",
       "        vertical-align: middle;\n",
       "    }\n",
       "\n",
       "    .dataframe tbody tr th {\n",
       "        vertical-align: top;\n",
       "    }\n",
       "\n",
       "    .dataframe thead th {\n",
       "        text-align: right;\n",
       "    }\n",
       "</style>\n",
       "<table border=\"1\" class=\"dataframe\">\n",
       "  <thead>\n",
       "    <tr style=\"text-align: right;\">\n",
       "      <th></th>\n",
       "      <th>year</th>\n",
       "      <th>views</th>\n",
       "    </tr>\n",
       "  </thead>\n",
       "  <tbody>\n",
       "    <tr>\n",
       "      <th>0</th>\n",
       "      <td>1970</td>\n",
       "      <td>126,000.00</td>\n",
       "    </tr>\n",
       "  </tbody>\n",
       "</table>\n",
       "</div>"
      ],
      "text/plain": [
       "   year                views\n",
       "0  1970           126,000.00"
      ]
     },
     "execution_count": 35,
     "metadata": {},
     "output_type": "execute_result"
    }
   ],
   "source": [
    "#Minimum Views\n",
    "views_table[views_table['views'] == views_table['views'].min()]"
   ]
  },
  {
   "cell_type": "markdown",
   "id": "bc2c933d",
   "metadata": {},
   "source": [
    "- We got how each year is trending. But i want to dive deeper, to know how each video in each year does."
   ]
  },
  {
   "cell_type": "markdown",
   "id": "cd270b72",
   "metadata": {},
   "source": [
    "### Summary of Views (Each Video)"
   ]
  },
  {
   "cell_type": "code",
   "execution_count": 126,
   "id": "0cf70af6",
   "metadata": {},
   "outputs": [
    {
     "data": {
      "text/html": [
       "<div>\n",
       "<style scoped>\n",
       "    .dataframe tbody tr th:only-of-type {\n",
       "        vertical-align: middle;\n",
       "    }\n",
       "\n",
       "    .dataframe tbody tr th {\n",
       "        vertical-align: top;\n",
       "    }\n",
       "\n",
       "    .dataframe thead th {\n",
       "        text-align: right;\n",
       "    }\n",
       "</style>\n",
       "<table border=\"1\" class=\"dataframe\">\n",
       "  <thead>\n",
       "    <tr style=\"text-align: right;\">\n",
       "      <th></th>\n",
       "      <th>year</th>\n",
       "      <th>views</th>\n",
       "      <th>video_counts</th>\n",
       "    </tr>\n",
       "  </thead>\n",
       "  <tbody>\n",
       "    <tr>\n",
       "      <th>9</th>\n",
       "      <td>2002</td>\n",
       "      <td>1,170,846.15</td>\n",
       "      <td>26</td>\n",
       "    </tr>\n",
       "    <tr>\n",
       "      <th>10</th>\n",
       "      <td>2003</td>\n",
       "      <td>1,599,823.53</td>\n",
       "      <td>34</td>\n",
       "    </tr>\n",
       "    <tr>\n",
       "      <th>11</th>\n",
       "      <td>2004</td>\n",
       "      <td>3,405,393.94</td>\n",
       "      <td>33</td>\n",
       "    </tr>\n",
       "    <tr>\n",
       "      <th>12</th>\n",
       "      <td>2005</td>\n",
       "      <td>2,422,738.45</td>\n",
       "      <td>65</td>\n",
       "    </tr>\n",
       "    <tr>\n",
       "      <th>13</th>\n",
       "      <td>2006</td>\n",
       "      <td>3,696,122.43</td>\n",
       "      <td>49</td>\n",
       "    </tr>\n",
       "  </tbody>\n",
       "</table>\n",
       "</div>"
      ],
      "text/plain": [
       "    year                views  video_counts\n",
       "9   2002         1,170,846.15            26\n",
       "10  2003         1,599,823.53            34\n",
       "11  2004         3,405,393.94            33\n",
       "12  2005         2,422,738.45            65\n",
       "13  2006         3,696,122.43            49"
      ]
     },
     "execution_count": 126,
     "metadata": {},
     "output_type": "execute_result"
    }
   ],
   "source": [
    "#merging views_table and video_counts_year.\n",
    "new_views = pd.merge(views_table,video_counts_year,on='year',how='left')\n",
    "new_views = new_views[new_views['video_counts'] > 10]\n",
    "#I decided to remove year when there are less than 10 videos, because the data seems so strange.\n",
    "new_views.head()"
   ]
  },
  {
   "cell_type": "code",
   "execution_count": 127,
   "id": "8acfa1b3",
   "metadata": {},
   "outputs": [
    {
     "data": {
      "text/html": [
       "<div>\n",
       "<style scoped>\n",
       "    .dataframe tbody tr th:only-of-type {\n",
       "        vertical-align: middle;\n",
       "    }\n",
       "\n",
       "    .dataframe tbody tr th {\n",
       "        vertical-align: top;\n",
       "    }\n",
       "\n",
       "    .dataframe thead th {\n",
       "        text-align: right;\n",
       "    }\n",
       "</style>\n",
       "<table border=\"1\" class=\"dataframe\">\n",
       "  <thead>\n",
       "    <tr style=\"text-align: right;\">\n",
       "      <th></th>\n",
       "      <th>year</th>\n",
       "      <th>views</th>\n",
       "      <th>video_counts</th>\n",
       "      <th>avg_views</th>\n",
       "    </tr>\n",
       "  </thead>\n",
       "  <tbody>\n",
       "    <tr>\n",
       "      <th>26</th>\n",
       "      <td>2019</td>\n",
       "      <td>1,742,866.36</td>\n",
       "      <td>544</td>\n",
       "      <td>3,203.80</td>\n",
       "    </tr>\n",
       "    <tr>\n",
       "      <th>27</th>\n",
       "      <td>2020</td>\n",
       "      <td>1,269,349.70</td>\n",
       "      <td>501</td>\n",
       "      <td>2,533.63</td>\n",
       "    </tr>\n",
       "    <tr>\n",
       "      <th>24</th>\n",
       "      <td>2017</td>\n",
       "      <td>2,017,962.83</td>\n",
       "      <td>495</td>\n",
       "      <td>4,076.69</td>\n",
       "    </tr>\n",
       "    <tr>\n",
       "      <th>25</th>\n",
       "      <td>2018</td>\n",
       "      <td>1,716,400.84</td>\n",
       "      <td>473</td>\n",
       "      <td>3,628.75</td>\n",
       "    </tr>\n",
       "    <tr>\n",
       "      <th>23</th>\n",
       "      <td>2016</td>\n",
       "      <td>2,328,057.38</td>\n",
       "      <td>399</td>\n",
       "      <td>5,834.73</td>\n",
       "    </tr>\n",
       "    <tr>\n",
       "      <th>28</th>\n",
       "      <td>2021</td>\n",
       "      <td>1,101,868.46</td>\n",
       "      <td>390</td>\n",
       "      <td>2,825.30</td>\n",
       "    </tr>\n",
       "    <tr>\n",
       "      <th>20</th>\n",
       "      <td>2013</td>\n",
       "      <td>2,738,498.70</td>\n",
       "      <td>388</td>\n",
       "      <td>7,057.99</td>\n",
       "    </tr>\n",
       "    <tr>\n",
       "      <th>22</th>\n",
       "      <td>2015</td>\n",
       "      <td>3,071,115.95</td>\n",
       "      <td>376</td>\n",
       "      <td>8,167.86</td>\n",
       "    </tr>\n",
       "    <tr>\n",
       "      <th>21</th>\n",
       "      <td>2014</td>\n",
       "      <td>2,309,950.41</td>\n",
       "      <td>357</td>\n",
       "      <td>6,470.45</td>\n",
       "    </tr>\n",
       "    <tr>\n",
       "      <th>19</th>\n",
       "      <td>2012</td>\n",
       "      <td>2,659,556.29</td>\n",
       "      <td>302</td>\n",
       "      <td>8,806.48</td>\n",
       "    </tr>\n",
       "    <tr>\n",
       "      <th>18</th>\n",
       "      <td>2011</td>\n",
       "      <td>2,124,273.06</td>\n",
       "      <td>271</td>\n",
       "      <td>7,838.65</td>\n",
       "    </tr>\n",
       "    <tr>\n",
       "      <th>17</th>\n",
       "      <td>2010</td>\n",
       "      <td>1,978,074.90</td>\n",
       "      <td>267</td>\n",
       "      <td>7,408.52</td>\n",
       "    </tr>\n",
       "    <tr>\n",
       "      <th>16</th>\n",
       "      <td>2009</td>\n",
       "      <td>2,393,283.26</td>\n",
       "      <td>233</td>\n",
       "      <td>10,271.60</td>\n",
       "    </tr>\n",
       "    <tr>\n",
       "      <th>14</th>\n",
       "      <td>2007</td>\n",
       "      <td>1,563,283.19</td>\n",
       "      <td>113</td>\n",
       "      <td>13,834.36</td>\n",
       "    </tr>\n",
       "    <tr>\n",
       "      <th>15</th>\n",
       "      <td>2008</td>\n",
       "      <td>2,476,285.70</td>\n",
       "      <td>84</td>\n",
       "      <td>29,479.59</td>\n",
       "    </tr>\n",
       "    <tr>\n",
       "      <th>12</th>\n",
       "      <td>2005</td>\n",
       "      <td>2,422,738.45</td>\n",
       "      <td>65</td>\n",
       "      <td>37,272.90</td>\n",
       "    </tr>\n",
       "    <tr>\n",
       "      <th>13</th>\n",
       "      <td>2006</td>\n",
       "      <td>3,696,122.43</td>\n",
       "      <td>49</td>\n",
       "      <td>75,431.07</td>\n",
       "    </tr>\n",
       "    <tr>\n",
       "      <th>10</th>\n",
       "      <td>2003</td>\n",
       "      <td>1,599,823.53</td>\n",
       "      <td>34</td>\n",
       "      <td>47,053.63</td>\n",
       "    </tr>\n",
       "    <tr>\n",
       "      <th>11</th>\n",
       "      <td>2004</td>\n",
       "      <td>3,405,393.94</td>\n",
       "      <td>33</td>\n",
       "      <td>103,193.76</td>\n",
       "    </tr>\n",
       "    <tr>\n",
       "      <th>9</th>\n",
       "      <td>2002</td>\n",
       "      <td>1,170,846.15</td>\n",
       "      <td>26</td>\n",
       "      <td>45,032.54</td>\n",
       "    </tr>\n",
       "    <tr>\n",
       "      <th>29</th>\n",
       "      <td>2022</td>\n",
       "      <td>573,500.00</td>\n",
       "      <td>20</td>\n",
       "      <td>28,675.00</td>\n",
       "    </tr>\n",
       "  </tbody>\n",
       "</table>\n",
       "</div>"
      ],
      "text/plain": [
       "    year                views  video_counts            avg_views\n",
       "26  2019         1,742,866.36           544             3,203.80\n",
       "27  2020         1,269,349.70           501             2,533.63\n",
       "24  2017         2,017,962.83           495             4,076.69\n",
       "25  2018         1,716,400.84           473             3,628.75\n",
       "23  2016         2,328,057.38           399             5,834.73\n",
       "28  2021         1,101,868.46           390             2,825.30\n",
       "20  2013         2,738,498.70           388             7,057.99\n",
       "22  2015         3,071,115.95           376             8,167.86\n",
       "21  2014         2,309,950.41           357             6,470.45\n",
       "19  2012         2,659,556.29           302             8,806.48\n",
       "18  2011         2,124,273.06           271             7,838.65\n",
       "17  2010         1,978,074.90           267             7,408.52\n",
       "16  2009         2,393,283.26           233            10,271.60\n",
       "14  2007         1,563,283.19           113            13,834.36\n",
       "15  2008         2,476,285.70            84            29,479.59\n",
       "12  2005         2,422,738.45            65            37,272.90\n",
       "13  2006         3,696,122.43            49            75,431.07\n",
       "10  2003         1,599,823.53            34            47,053.63\n",
       "11  2004         3,405,393.94            33           103,193.76\n",
       "9   2002         1,170,846.15            26            45,032.54\n",
       "29  2022           573,500.00            20            28,675.00"
      ]
     },
     "execution_count": 127,
     "metadata": {},
     "output_type": "execute_result"
    }
   ],
   "source": [
    "#counting average views from each videos\n",
    "new_views['avg_views'] = new_views['views']/new_views['video_counts']\n",
    "new_views.sort_values(['video_counts'],ascending=False)"
   ]
  },
  {
   "cell_type": "code",
   "execution_count": 129,
   "id": "b5dafc91",
   "metadata": {},
   "outputs": [
    {
     "data": {
      "image/png": "[encoded data removed]",
      "text/plain": [
       "<Figure size 1080x360 with 1 Axes>"
      ]
     },
     "metadata": {},
     "output_type": "display_data"
    }
   ],
   "source": [
    "#visualization of views average in each video, each year.\n",
    "plt.figure(figsize=(15,5))\n",
    "plt.plot(new_views['year'],new_views['avg_views'])\n",
    "plt.xlabel('Year')\n",
    "plt.xticks(new_views['year'])\n",
    "plt.xlim(2002)\n",
    "plt.ylabel('Amount of Views')\n",
    "plt.show()"
   ]
  },
  {
   "cell_type": "markdown",
   "id": "05d7f30c",
   "metadata": {},
   "source": [
    "### Summary of Likes (Each Year)"
   ]
  },
  {
   "cell_type": "code",
   "execution_count": 58,
   "id": "0b94226c",
   "metadata": {},
   "outputs": [],
   "source": [
    "likes_table = average_table.drop('views',axis=1)"
   ]
  },
  {
   "cell_type": "code",
   "execution_count": 56,
   "id": "56f9a8f4",
   "metadata": {},
   "outputs": [
    {
     "data": {
      "text/html": [
       "<div>\n",
       "<style scoped>\n",
       "    .dataframe tbody tr th:only-of-type {\n",
       "        vertical-align: middle;\n",
       "    }\n",
       "\n",
       "    .dataframe tbody tr th {\n",
       "        vertical-align: top;\n",
       "    }\n",
       "\n",
       "    .dataframe thead th {\n",
       "        text-align: right;\n",
       "    }\n",
       "</style>\n",
       "<table border=\"1\" class=\"dataframe\">\n",
       "  <thead>\n",
       "    <tr style=\"text-align: right;\">\n",
       "      <th></th>\n",
       "      <th>year</th>\n",
       "      <th>likes</th>\n",
       "    </tr>\n",
       "  </thead>\n",
       "  <tbody>\n",
       "    <tr>\n",
       "      <th>13</th>\n",
       "      <td>2006</td>\n",
       "      <td>110,232.65</td>\n",
       "    </tr>\n",
       "    <tr>\n",
       "      <th>11</th>\n",
       "      <td>2004</td>\n",
       "      <td>104,133.33</td>\n",
       "    </tr>\n",
       "    <tr>\n",
       "      <th>22</th>\n",
       "      <td>2015</td>\n",
       "      <td>93,488.69</td>\n",
       "    </tr>\n",
       "    <tr>\n",
       "      <th>20</th>\n",
       "      <td>2013</td>\n",
       "      <td>83,118.34</td>\n",
       "    </tr>\n",
       "    <tr>\n",
       "      <th>19</th>\n",
       "      <td>2012</td>\n",
       "      <td>80,566.92</td>\n",
       "    </tr>\n",
       "    <tr>\n",
       "      <th>15</th>\n",
       "      <td>2008</td>\n",
       "      <td>75,147.62</td>\n",
       "    </tr>\n",
       "    <tr>\n",
       "      <th>12</th>\n",
       "      <td>2005</td>\n",
       "      <td>73,923.08</td>\n",
       "    </tr>\n",
       "    <tr>\n",
       "      <th>16</th>\n",
       "      <td>2009</td>\n",
       "      <td>72,281.12</td>\n",
       "    </tr>\n",
       "    <tr>\n",
       "      <th>23</th>\n",
       "      <td>2016</td>\n",
       "      <td>70,944.32</td>\n",
       "    </tr>\n",
       "    <tr>\n",
       "      <th>21</th>\n",
       "      <td>2014</td>\n",
       "      <td>70,242.76</td>\n",
       "    </tr>\n",
       "    <tr>\n",
       "      <th>18</th>\n",
       "      <td>2011</td>\n",
       "      <td>64,497.79</td>\n",
       "    </tr>\n",
       "    <tr>\n",
       "      <th>8</th>\n",
       "      <td>2001</td>\n",
       "      <td>63,020.00</td>\n",
       "    </tr>\n",
       "    <tr>\n",
       "      <th>24</th>\n",
       "      <td>2017</td>\n",
       "      <td>61,649.15</td>\n",
       "    </tr>\n",
       "    <tr>\n",
       "      <th>17</th>\n",
       "      <td>2010</td>\n",
       "      <td>59,786.14</td>\n",
       "    </tr>\n",
       "    <tr>\n",
       "      <th>26</th>\n",
       "      <td>2019</td>\n",
       "      <td>52,876.06</td>\n",
       "    </tr>\n",
       "    <tr>\n",
       "      <th>25</th>\n",
       "      <td>2018</td>\n",
       "      <td>52,159.60</td>\n",
       "    </tr>\n",
       "    <tr>\n",
       "      <th>10</th>\n",
       "      <td>2003</td>\n",
       "      <td>48,247.06</td>\n",
       "    </tr>\n",
       "    <tr>\n",
       "      <th>14</th>\n",
       "      <td>2007</td>\n",
       "      <td>47,186.73</td>\n",
       "    </tr>\n",
       "    <tr>\n",
       "      <th>1</th>\n",
       "      <td>1972</td>\n",
       "      <td>41,000.00</td>\n",
       "    </tr>\n",
       "    <tr>\n",
       "      <th>27</th>\n",
       "      <td>2020</td>\n",
       "      <td>38,516.99</td>\n",
       "    </tr>\n",
       "    <tr>\n",
       "      <th>7</th>\n",
       "      <td>1998</td>\n",
       "      <td>37,683.33</td>\n",
       "    </tr>\n",
       "    <tr>\n",
       "      <th>9</th>\n",
       "      <td>2002</td>\n",
       "      <td>35,219.23</td>\n",
       "    </tr>\n",
       "    <tr>\n",
       "      <th>28</th>\n",
       "      <td>2021</td>\n",
       "      <td>33,482.66</td>\n",
       "    </tr>\n",
       "    <tr>\n",
       "      <th>3</th>\n",
       "      <td>1984</td>\n",
       "      <td>33,000.00</td>\n",
       "    </tr>\n",
       "    <tr>\n",
       "      <th>4</th>\n",
       "      <td>1990</td>\n",
       "      <td>21,000.00</td>\n",
       "    </tr>\n",
       "    <tr>\n",
       "      <th>6</th>\n",
       "      <td>1994</td>\n",
       "      <td>20,000.00</td>\n",
       "    </tr>\n",
       "    <tr>\n",
       "      <th>2</th>\n",
       "      <td>1983</td>\n",
       "      <td>20,000.00</td>\n",
       "    </tr>\n",
       "    <tr>\n",
       "      <th>29</th>\n",
       "      <td>2022</td>\n",
       "      <td>17,062.70</td>\n",
       "    </tr>\n",
       "    <tr>\n",
       "      <th>5</th>\n",
       "      <td>1991</td>\n",
       "      <td>9,800.00</td>\n",
       "    </tr>\n",
       "    <tr>\n",
       "      <th>0</th>\n",
       "      <td>1970</td>\n",
       "      <td>3,750.00</td>\n",
       "    </tr>\n",
       "  </tbody>\n",
       "</table>\n",
       "</div>"
      ],
      "text/plain": [
       "    year                likes\n",
       "13  2006           110,232.65\n",
       "11  2004           104,133.33\n",
       "22  2015            93,488.69\n",
       "20  2013            83,118.34\n",
       "19  2012            80,566.92\n",
       "15  2008            75,147.62\n",
       "12  2005            73,923.08\n",
       "16  2009            72,281.12\n",
       "23  2016            70,944.32\n",
       "21  2014            70,242.76\n",
       "18  2011            64,497.79\n",
       "8   2001            63,020.00\n",
       "24  2017            61,649.15\n",
       "17  2010            59,786.14\n",
       "26  2019            52,876.06\n",
       "25  2018            52,159.60\n",
       "10  2003            48,247.06\n",
       "14  2007            47,186.73\n",
       "1   1972            41,000.00\n",
       "27  2020            38,516.99\n",
       "7   1998            37,683.33\n",
       "9   2002            35,219.23\n",
       "28  2021            33,482.66\n",
       "3   1984            33,000.00\n",
       "4   1990            21,000.00\n",
       "6   1994            20,000.00\n",
       "2   1983            20,000.00\n",
       "29  2022            17,062.70\n",
       "5   1991             9,800.00\n",
       "0   1970             3,750.00"
      ]
     },
     "execution_count": 56,
     "metadata": {},
     "output_type": "execute_result"
    }
   ],
   "source": [
    "likes_table.sort_values(by=['likes','year'],ascending=False)"
   ]
  },
  {
   "cell_type": "code",
   "execution_count": null,
   "id": "c0b45434",
   "metadata": {},
   "outputs": [],
   "source": []
  },
  {
   "cell_type": "code",
   "execution_count": 37,
   "id": "e6586cc7",
   "metadata": {},
   "outputs": [],
   "source": [
    "max_likes = likes_table['likes'].max()\n",
    "avg_likes = likes_table['likes'].mean()\n",
    "min_likes = likes_table['likes'].min()"
   ]
  },
  {
   "cell_type": "code",
   "execution_count": 42,
   "id": "8311bee4",
   "metadata": {
    "scrolled": true
   },
   "outputs": [
    {
     "name": "stdout",
     "output_type": "stream",
     "text": [
      "Highest count of likes in a year for a TedTalks video is 110232.7.\n",
      "Average likes in each TedTalks video is 53133.9.\n",
      "Lowest likes TedTalks video in a yearly basis is 3750.0.\n"
     ]
    }
   ],
   "source": [
    "#Printing Max, Avg, and Min likes\n",
    "print(f'Highest count of likes in a year for a TedTalks video is {round(max_likes,1)}.')\n",
    "print(f'Average likes in each TedTalks video is {round(avg_likes,1)}.')\n",
    "print(f'Lowest likes TedTalks video in a yearly basis is {round(min_likes,1)}.')"
   ]
  },
  {
   "cell_type": "markdown",
   "id": "21b86204",
   "metadata": {},
   "source": [
    "### When Maximum and Minimum Likes occured?"
   ]
  },
  {
   "cell_type": "code",
   "execution_count": 44,
   "id": "287f233a",
   "metadata": {},
   "outputs": [
    {
     "data": {
      "text/html": [
       "<div>\n",
       "<style scoped>\n",
       "    .dataframe tbody tr th:only-of-type {\n",
       "        vertical-align: middle;\n",
       "    }\n",
       "\n",
       "    .dataframe tbody tr th {\n",
       "        vertical-align: top;\n",
       "    }\n",
       "\n",
       "    .dataframe thead th {\n",
       "        text-align: right;\n",
       "    }\n",
       "</style>\n",
       "<table border=\"1\" class=\"dataframe\">\n",
       "  <thead>\n",
       "    <tr style=\"text-align: right;\">\n",
       "      <th></th>\n",
       "      <th>year</th>\n",
       "      <th>likes</th>\n",
       "    </tr>\n",
       "  </thead>\n",
       "  <tbody>\n",
       "    <tr>\n",
       "      <th>13</th>\n",
       "      <td>2006</td>\n",
       "      <td>110,232.65</td>\n",
       "    </tr>\n",
       "  </tbody>\n",
       "</table>\n",
       "</div>"
      ],
      "text/plain": [
       "    year                likes\n",
       "13  2006           110,232.65"
      ]
     },
     "execution_count": 44,
     "metadata": {},
     "output_type": "execute_result"
    }
   ],
   "source": [
    "#Maximum Likes\n",
    "likes_table[likes_table['likes'] == likes_table['likes'].max()]"
   ]
  },
  {
   "cell_type": "code",
   "execution_count": 45,
   "id": "34de5ed1",
   "metadata": {},
   "outputs": [
    {
     "data": {
      "text/html": [
       "<div>\n",
       "<style scoped>\n",
       "    .dataframe tbody tr th:only-of-type {\n",
       "        vertical-align: middle;\n",
       "    }\n",
       "\n",
       "    .dataframe tbody tr th {\n",
       "        vertical-align: top;\n",
       "    }\n",
       "\n",
       "    .dataframe thead th {\n",
       "        text-align: right;\n",
       "    }\n",
       "</style>\n",
       "<table border=\"1\" class=\"dataframe\">\n",
       "  <thead>\n",
       "    <tr style=\"text-align: right;\">\n",
       "      <th></th>\n",
       "      <th>year</th>\n",
       "      <th>likes</th>\n",
       "    </tr>\n",
       "  </thead>\n",
       "  <tbody>\n",
       "    <tr>\n",
       "      <th>0</th>\n",
       "      <td>1970</td>\n",
       "      <td>3,750.00</td>\n",
       "    </tr>\n",
       "  </tbody>\n",
       "</table>\n",
       "</div>"
      ],
      "text/plain": [
       "   year                likes\n",
       "0  1970             3,750.00"
      ]
     },
     "execution_count": 45,
     "metadata": {},
     "output_type": "execute_result"
    }
   ],
   "source": [
    "#Minimum Likes\n",
    "likes_table[likes_table['likes'] == likes_table['likes'].min()]"
   ]
  },
  {
   "cell_type": "markdown",
   "id": "8b117248",
   "metadata": {},
   "source": [
    "- Based on Views and Likes count, 2006 was the best performing year for TedTalks. In 2006, the average views and likes from each TedTalks video was the highest, compared to the other year. Even though, compared to other year, there are less video posted in 2006 (only 49)."
   ]
  },
  {
   "cell_type": "markdown",
   "id": "582759df",
   "metadata": {},
   "source": [
    "### Summary of Likes (Each Video)"
   ]
  },
  {
   "cell_type": "code",
   "execution_count": 130,
   "id": "3a07fbd6",
   "metadata": {},
   "outputs": [
    {
     "data": {
      "text/html": [
       "<div>\n",
       "<style scoped>\n",
       "    .dataframe tbody tr th:only-of-type {\n",
       "        vertical-align: middle;\n",
       "    }\n",
       "\n",
       "    .dataframe tbody tr th {\n",
       "        vertical-align: top;\n",
       "    }\n",
       "\n",
       "    .dataframe thead th {\n",
       "        text-align: right;\n",
       "    }\n",
       "</style>\n",
       "<table border=\"1\" class=\"dataframe\">\n",
       "  <thead>\n",
       "    <tr style=\"text-align: right;\">\n",
       "      <th></th>\n",
       "      <th>year</th>\n",
       "      <th>likes</th>\n",
       "      <th>video_counts</th>\n",
       "    </tr>\n",
       "  </thead>\n",
       "  <tbody>\n",
       "    <tr>\n",
       "      <th>9</th>\n",
       "      <td>2002</td>\n",
       "      <td>35,219.23</td>\n",
       "      <td>26</td>\n",
       "    </tr>\n",
       "    <tr>\n",
       "      <th>10</th>\n",
       "      <td>2003</td>\n",
       "      <td>48,247.06</td>\n",
       "      <td>34</td>\n",
       "    </tr>\n",
       "    <tr>\n",
       "      <th>11</th>\n",
       "      <td>2004</td>\n",
       "      <td>104,133.33</td>\n",
       "      <td>33</td>\n",
       "    </tr>\n",
       "    <tr>\n",
       "      <th>12</th>\n",
       "      <td>2005</td>\n",
       "      <td>73,923.08</td>\n",
       "      <td>65</td>\n",
       "    </tr>\n",
       "    <tr>\n",
       "      <th>13</th>\n",
       "      <td>2006</td>\n",
       "      <td>110,232.65</td>\n",
       "      <td>49</td>\n",
       "    </tr>\n",
       "  </tbody>\n",
       "</table>\n",
       "</div>"
      ],
      "text/plain": [
       "    year                likes  video_counts\n",
       "9   2002            35,219.23            26\n",
       "10  2003            48,247.06            34\n",
       "11  2004           104,133.33            33\n",
       "12  2005            73,923.08            65\n",
       "13  2006           110,232.65            49"
      ]
     },
     "execution_count": 130,
     "metadata": {},
     "output_type": "execute_result"
    }
   ],
   "source": [
    "#merging likes_table and video_counts_year.\n",
    "new_likes = pd.merge(likes_table,video_counts_year, on='year',how='left')\n",
    "new_likes = new_likes[new_likes['video_counts'] > 10]\n",
    "new_likes.head()"
   ]
  },
  {
   "cell_type": "code",
   "execution_count": 131,
   "id": "d58d4b77",
   "metadata": {},
   "outputs": [
    {
     "data": {
      "text/html": [
       "<div>\n",
       "<style scoped>\n",
       "    .dataframe tbody tr th:only-of-type {\n",
       "        vertical-align: middle;\n",
       "    }\n",
       "\n",
       "    .dataframe tbody tr th {\n",
       "        vertical-align: top;\n",
       "    }\n",
       "\n",
       "    .dataframe thead th {\n",
       "        text-align: right;\n",
       "    }\n",
       "</style>\n",
       "<table border=\"1\" class=\"dataframe\">\n",
       "  <thead>\n",
       "    <tr style=\"text-align: right;\">\n",
       "      <th></th>\n",
       "      <th>year</th>\n",
       "      <th>likes</th>\n",
       "      <th>video_counts</th>\n",
       "      <th>avg_likes</th>\n",
       "    </tr>\n",
       "  </thead>\n",
       "  <tbody>\n",
       "    <tr>\n",
       "      <th>11</th>\n",
       "      <td>2004</td>\n",
       "      <td>104,133.33</td>\n",
       "      <td>33</td>\n",
       "      <td>3,155.56</td>\n",
       "    </tr>\n",
       "    <tr>\n",
       "      <th>13</th>\n",
       "      <td>2006</td>\n",
       "      <td>110,232.65</td>\n",
       "      <td>49</td>\n",
       "      <td>2,249.65</td>\n",
       "    </tr>\n",
       "    <tr>\n",
       "      <th>10</th>\n",
       "      <td>2003</td>\n",
       "      <td>48,247.06</td>\n",
       "      <td>34</td>\n",
       "      <td>1,419.03</td>\n",
       "    </tr>\n",
       "    <tr>\n",
       "      <th>9</th>\n",
       "      <td>2002</td>\n",
       "      <td>35,219.23</td>\n",
       "      <td>26</td>\n",
       "      <td>1,354.59</td>\n",
       "    </tr>\n",
       "    <tr>\n",
       "      <th>12</th>\n",
       "      <td>2005</td>\n",
       "      <td>73,923.08</td>\n",
       "      <td>65</td>\n",
       "      <td>1,137.28</td>\n",
       "    </tr>\n",
       "    <tr>\n",
       "      <th>15</th>\n",
       "      <td>2008</td>\n",
       "      <td>75,147.62</td>\n",
       "      <td>84</td>\n",
       "      <td>894.61</td>\n",
       "    </tr>\n",
       "    <tr>\n",
       "      <th>29</th>\n",
       "      <td>2022</td>\n",
       "      <td>17,062.70</td>\n",
       "      <td>20</td>\n",
       "      <td>853.13</td>\n",
       "    </tr>\n",
       "    <tr>\n",
       "      <th>14</th>\n",
       "      <td>2007</td>\n",
       "      <td>47,186.73</td>\n",
       "      <td>113</td>\n",
       "      <td>417.58</td>\n",
       "    </tr>\n",
       "    <tr>\n",
       "      <th>16</th>\n",
       "      <td>2009</td>\n",
       "      <td>72,281.12</td>\n",
       "      <td>233</td>\n",
       "      <td>310.22</td>\n",
       "    </tr>\n",
       "    <tr>\n",
       "      <th>19</th>\n",
       "      <td>2012</td>\n",
       "      <td>80,566.92</td>\n",
       "      <td>302</td>\n",
       "      <td>266.78</td>\n",
       "    </tr>\n",
       "    <tr>\n",
       "      <th>22</th>\n",
       "      <td>2015</td>\n",
       "      <td>93,488.69</td>\n",
       "      <td>376</td>\n",
       "      <td>248.64</td>\n",
       "    </tr>\n",
       "    <tr>\n",
       "      <th>18</th>\n",
       "      <td>2011</td>\n",
       "      <td>64,497.79</td>\n",
       "      <td>271</td>\n",
       "      <td>238.00</td>\n",
       "    </tr>\n",
       "    <tr>\n",
       "      <th>17</th>\n",
       "      <td>2010</td>\n",
       "      <td>59,786.14</td>\n",
       "      <td>267</td>\n",
       "      <td>223.92</td>\n",
       "    </tr>\n",
       "    <tr>\n",
       "      <th>20</th>\n",
       "      <td>2013</td>\n",
       "      <td>83,118.34</td>\n",
       "      <td>388</td>\n",
       "      <td>214.22</td>\n",
       "    </tr>\n",
       "    <tr>\n",
       "      <th>21</th>\n",
       "      <td>2014</td>\n",
       "      <td>70,242.76</td>\n",
       "      <td>357</td>\n",
       "      <td>196.76</td>\n",
       "    </tr>\n",
       "    <tr>\n",
       "      <th>23</th>\n",
       "      <td>2016</td>\n",
       "      <td>70,944.32</td>\n",
       "      <td>399</td>\n",
       "      <td>177.81</td>\n",
       "    </tr>\n",
       "    <tr>\n",
       "      <th>24</th>\n",
       "      <td>2017</td>\n",
       "      <td>61,649.15</td>\n",
       "      <td>495</td>\n",
       "      <td>124.54</td>\n",
       "    </tr>\n",
       "    <tr>\n",
       "      <th>25</th>\n",
       "      <td>2018</td>\n",
       "      <td>52,159.60</td>\n",
       "      <td>473</td>\n",
       "      <td>110.27</td>\n",
       "    </tr>\n",
       "    <tr>\n",
       "      <th>26</th>\n",
       "      <td>2019</td>\n",
       "      <td>52,876.06</td>\n",
       "      <td>544</td>\n",
       "      <td>97.20</td>\n",
       "    </tr>\n",
       "    <tr>\n",
       "      <th>28</th>\n",
       "      <td>2021</td>\n",
       "      <td>33,482.66</td>\n",
       "      <td>390</td>\n",
       "      <td>85.85</td>\n",
       "    </tr>\n",
       "    <tr>\n",
       "      <th>27</th>\n",
       "      <td>2020</td>\n",
       "      <td>38,516.99</td>\n",
       "      <td>501</td>\n",
       "      <td>76.88</td>\n",
       "    </tr>\n",
       "  </tbody>\n",
       "</table>\n",
       "</div>"
      ],
      "text/plain": [
       "    year                likes  video_counts            avg_likes\n",
       "11  2004           104,133.33            33             3,155.56\n",
       "13  2006           110,232.65            49             2,249.65\n",
       "10  2003            48,247.06            34             1,419.03\n",
       "9   2002            35,219.23            26             1,354.59\n",
       "12  2005            73,923.08            65             1,137.28\n",
       "15  2008            75,147.62            84               894.61\n",
       "29  2022            17,062.70            20               853.13\n",
       "14  2007            47,186.73           113               417.58\n",
       "16  2009            72,281.12           233               310.22\n",
       "19  2012            80,566.92           302               266.78\n",
       "22  2015            93,488.69           376               248.64\n",
       "18  2011            64,497.79           271               238.00\n",
       "17  2010            59,786.14           267               223.92\n",
       "20  2013            83,118.34           388               214.22\n",
       "21  2014            70,242.76           357               196.76\n",
       "23  2016            70,944.32           399               177.81\n",
       "24  2017            61,649.15           495               124.54\n",
       "25  2018            52,159.60           473               110.27\n",
       "26  2019            52,876.06           544                97.20\n",
       "28  2021            33,482.66           390                85.85\n",
       "27  2020            38,516.99           501                76.88"
      ]
     },
     "execution_count": 131,
     "metadata": {},
     "output_type": "execute_result"
    }
   ],
   "source": [
    "#Counting the average likes from each videos\n",
    "new_likes['avg_likes'] = new_likes['likes']/new_likes['video_counts']\n",
    "new_likes.sort_values(['avg_likes'],ascending=False)"
   ]
  },
  {
   "cell_type": "code",
   "execution_count": 132,
   "id": "770393ac",
   "metadata": {},
   "outputs": [
    {
     "data": {
      "image/png": "[encoded data removed]",
      "text/plain": [
       "<Figure size 1080x360 with 1 Axes>"
      ]
     },
     "metadata": {},
     "output_type": "display_data"
    }
   ],
   "source": [
    "#visualization of avg like in each video, each year.\n",
    "plt.figure(figsize=(15,5))\n",
    "plt.plot(new_likes['year'],new_likes['avg_likes'])\n",
    "plt.xlabel('Year')\n",
    "plt.xticks(new_likes['year'])\n",
    "plt.xlim(2002)\n",
    "plt.ylabel('Amount of Likes')\n",
    "plt.show()"
   ]
  },
  {
   "cell_type": "code",
   "execution_count": null,
   "id": "69179a4d",
   "metadata": {},
   "outputs": [],
   "source": []
  }
 ],
 "metadata": {
  "kernelspec": {
   "display_name": "Python 3 (ipykernel)",
   "language": "python",
   "name": "python3"
  },
  "language_info": {
   "codemirror_mode": {
    "name": "ipython",
    "version": 3
   },
   "file_extension": ".py",
   "mimetype": "text/x-python",
   "name": "python",
   "nbconvert_exporter": "python",
   "pygments_lexer": "ipython3",
   "version": "3.9.7"
  }
 },
 "nbformat": 4,
 "nbformat_minor": 5
}
