{
 "cells": [
  {
   "cell_type": "markdown",
   "id": "7edcfb05",
   "metadata": {},
   "source": [
    "### Import Relevant Libraries"
   ]
  },
  {
   "cell_type": "code",
   "execution_count": 11,
   "id": "88c13a1e",
   "metadata": {},
   "outputs": [],
   "source": [
    "import pandas as pd\n",
    "import numpy as np\n",
    "import matplotlib.pyplot as plt\n",
    "import seaborn as sns\n",
    "sns.set()\n",
    "#Supressing Scientific Notation\n",
    "pd.options.display.float_format = '{:20,.2f}'.format"
   ]
  },
  {
   "cell_type": "markdown",
   "id": "7a908b09",
   "metadata": {},
   "source": [
    "### Loading the Data"
   ]
  },
  {
   "cell_type": "code",
   "execution_count": 2,
   "id": "706a4256",
   "metadata": {},
   "outputs": [
    {
     "data": {
      "text/html": [
       "<div>\n",
       "<style scoped>\n",
       "    .dataframe tbody tr th:only-of-type {\n",
       "        vertical-align: middle;\n",
       "    }\n",
       "\n",
       "    .dataframe tbody tr th {\n",
       "        vertical-align: top;\n",
       "    }\n",
       "\n",
       "    .dataframe thead th {\n",
       "        text-align: right;\n",
       "    }\n",
       "</style>\n",
       "<table border=\"1\" class=\"dataframe\">\n",
       "  <thead>\n",
       "    <tr style=\"text-align: right;\">\n",
       "      <th></th>\n",
       "      <th>title</th>\n",
       "      <th>author</th>\n",
       "      <th>date</th>\n",
       "      <th>views</th>\n",
       "      <th>likes</th>\n",
       "      <th>link</th>\n",
       "    </tr>\n",
       "  </thead>\n",
       "  <tbody>\n",
       "    <tr>\n",
       "      <th>0</th>\n",
       "      <td>Climate action needs new frontline leadership</td>\n",
       "      <td>Ozawa Bineshi Albert</td>\n",
       "      <td>December 2021</td>\n",
       "      <td>404000</td>\n",
       "      <td>12000</td>\n",
       "      <td>https://ted.com/talks/ozawa_bineshi_albert_cli...</td>\n",
       "    </tr>\n",
       "    <tr>\n",
       "      <th>1</th>\n",
       "      <td>The dark history of the overthrow of Hawaii</td>\n",
       "      <td>Sydney Iaukea</td>\n",
       "      <td>February 2022</td>\n",
       "      <td>214000</td>\n",
       "      <td>6400</td>\n",
       "      <td>https://ted.com/talks/sydney_iaukea_the_dark_h...</td>\n",
       "    </tr>\n",
       "    <tr>\n",
       "      <th>2</th>\n",
       "      <td>How play can spark new ideas for your business</td>\n",
       "      <td>Martin Reeves</td>\n",
       "      <td>September 2021</td>\n",
       "      <td>412000</td>\n",
       "      <td>12000</td>\n",
       "      <td>https://ted.com/talks/martin_reeves_how_play_c...</td>\n",
       "    </tr>\n",
       "    <tr>\n",
       "      <th>3</th>\n",
       "      <td>Why is China appointing judges to combat clima...</td>\n",
       "      <td>James K. Thornton</td>\n",
       "      <td>October 2021</td>\n",
       "      <td>427000</td>\n",
       "      <td>12000</td>\n",
       "      <td>https://ted.com/talks/james_k_thornton_why_is_...</td>\n",
       "    </tr>\n",
       "    <tr>\n",
       "      <th>4</th>\n",
       "      <td>Cement's carbon problem — and 2 ways to fix it</td>\n",
       "      <td>Mahendra Singhi</td>\n",
       "      <td>October 2021</td>\n",
       "      <td>2400</td>\n",
       "      <td>72</td>\n",
       "      <td>https://ted.com/talks/mahendra_singhi_cement_s...</td>\n",
       "    </tr>\n",
       "  </tbody>\n",
       "</table>\n",
       "</div>"
      ],
      "text/plain": [
       "                                               title                author  \\\n",
       "0      Climate action needs new frontline leadership  Ozawa Bineshi Albert   \n",
       "1        The dark history of the overthrow of Hawaii         Sydney Iaukea   \n",
       "2     How play can spark new ideas for your business         Martin Reeves   \n",
       "3  Why is China appointing judges to combat clima...     James K. Thornton   \n",
       "4     Cement's carbon problem — and 2 ways to fix it       Mahendra Singhi   \n",
       "\n",
       "             date   views  likes  \\\n",
       "0   December 2021  404000  12000   \n",
       "1   February 2022  214000   6400   \n",
       "2  September 2021  412000  12000   \n",
       "3    October 2021  427000  12000   \n",
       "4    October 2021    2400     72   \n",
       "\n",
       "                                                link  \n",
       "0  https://ted.com/talks/ozawa_bineshi_albert_cli...  \n",
       "1  https://ted.com/talks/sydney_iaukea_the_dark_h...  \n",
       "2  https://ted.com/talks/martin_reeves_how_play_c...  \n",
       "3  https://ted.com/talks/james_k_thornton_why_is_...  \n",
       "4  https://ted.com/talks/mahendra_singhi_cement_s...  "
      ]
     },
     "execution_count": 2,
     "metadata": {},
     "output_type": "execute_result"
    }
   ],
   "source": [
    "raw_data = pd.read_csv('data.csv')\n",
    "raw_data.head()"
   ]
  },
  {
   "cell_type": "markdown",
   "id": "8585283f",
   "metadata": {},
   "source": [
    "### Checking Missing Values"
   ]
  },
  {
   "cell_type": "code",
   "execution_count": 3,
   "id": "02a80ec5",
   "metadata": {
    "scrolled": true
   },
   "outputs": [
    {
     "data": {
      "text/plain": [
       "title     0\n",
       "author    1\n",
       "date      0\n",
       "views     0\n",
       "likes     0\n",
       "link      0\n",
       "dtype: int64"
      ]
     },
     "execution_count": 3,
     "metadata": {},
     "output_type": "execute_result"
    }
   ],
   "source": [
    "raw_data.isna().sum()"
   ]
  },
  {
   "cell_type": "code",
   "execution_count": 7,
   "id": "81e7dd62",
   "metadata": {},
   "outputs": [
    {
     "data": {
      "text/html": [
       "<div>\n",
       "<style scoped>\n",
       "    .dataframe tbody tr th:only-of-type {\n",
       "        vertical-align: middle;\n",
       "    }\n",
       "\n",
       "    .dataframe tbody tr th {\n",
       "        vertical-align: top;\n",
       "    }\n",
       "\n",
       "    .dataframe thead th {\n",
       "        text-align: right;\n",
       "    }\n",
       "</style>\n",
       "<table border=\"1\" class=\"dataframe\">\n",
       "  <thead>\n",
       "    <tr style=\"text-align: right;\">\n",
       "      <th></th>\n",
       "      <th>title</th>\n",
       "      <th>author</th>\n",
       "      <th>date</th>\n",
       "      <th>views</th>\n",
       "      <th>likes</th>\n",
       "      <th>link</th>\n",
       "    </tr>\n",
       "  </thead>\n",
       "  <tbody>\n",
       "    <tr>\n",
       "      <th>3039</th>\n",
       "      <td>Year In Ideas 2015</td>\n",
       "      <td>NaN</td>\n",
       "      <td>December 2015</td>\n",
       "      <td>532</td>\n",
       "      <td>15</td>\n",
       "      <td>https://ted.com/talks/year_in_ideas_2015</td>\n",
       "    </tr>\n",
       "  </tbody>\n",
       "</table>\n",
       "</div>"
      ],
      "text/plain": [
       "                   title author           date  views  likes  \\\n",
       "3039  Year In Ideas 2015    NaN  December 2015    532     15   \n",
       "\n",
       "                                          link  \n",
       "3039  https://ted.com/talks/year_in_ideas_2015  "
      ]
     },
     "execution_count": 7,
     "metadata": {},
     "output_type": "execute_result"
    }
   ],
   "source": [
    "raw_data[raw_data['author'].isna()]"
   ]
  },
  {
   "cell_type": "markdown",
   "id": "456659d0",
   "metadata": {},
   "source": [
    "Note : This talk has multiple speakers. Thats why the value is NaN"
   ]
  },
  {
   "cell_type": "markdown",
   "id": "7058a030",
   "metadata": {},
   "source": [
    "### Checking Duplicate Values"
   ]
  },
  {
   "cell_type": "code",
   "execution_count": 4,
   "id": "1f50fc5d",
   "metadata": {
    "scrolled": true
   },
   "outputs": [
    {
     "data": {
      "text/plain": [
       "0"
      ]
     },
     "execution_count": 4,
     "metadata": {},
     "output_type": "execute_result"
    }
   ],
   "source": [
    "len(raw_data[raw_data.duplicated() == True])"
   ]
  },
  {
   "cell_type": "markdown",
   "id": "75694034",
   "metadata": {},
   "source": [
    "### Checking Each Columns Datatypes"
   ]
  },
  {
   "cell_type": "code",
   "execution_count": 12,
   "id": "c95f3c09",
   "metadata": {},
   "outputs": [
    {
     "name": "stdout",
     "output_type": "stream",
     "text": [
      "<class 'pandas.core.frame.DataFrame'>\n",
      "RangeIndex: 5440 entries, 0 to 5439\n",
      "Data columns (total 6 columns):\n",
      " #   Column  Non-Null Count  Dtype \n",
      "---  ------  --------------  ----- \n",
      " 0   title   5440 non-null   object\n",
      " 1   author  5439 non-null   object\n",
      " 2   date    5440 non-null   object\n",
      " 3   views   5440 non-null   int64 \n",
      " 4   likes   5440 non-null   int64 \n",
      " 5   link    5440 non-null   object\n",
      "dtypes: int64(2), object(4)\n",
      "memory usage: 255.1+ KB\n"
     ]
    }
   ],
   "source": [
    "raw_data.info()"
   ]
  },
  {
   "cell_type": "code",
   "execution_count": 13,
   "id": "bc16c155",
   "metadata": {},
   "outputs": [
    {
     "data": {
      "text/html": [
       "<div>\n",
       "<style scoped>\n",
       "    .dataframe tbody tr th:only-of-type {\n",
       "        vertical-align: middle;\n",
       "    }\n",
       "\n",
       "    .dataframe tbody tr th {\n",
       "        vertical-align: top;\n",
       "    }\n",
       "\n",
       "    .dataframe thead th {\n",
       "        text-align: right;\n",
       "    }\n",
       "</style>\n",
       "<table border=\"1\" class=\"dataframe\">\n",
       "  <thead>\n",
       "    <tr style=\"text-align: right;\">\n",
       "      <th></th>\n",
       "      <th>views</th>\n",
       "      <th>likes</th>\n",
       "    </tr>\n",
       "  </thead>\n",
       "  <tbody>\n",
       "    <tr>\n",
       "      <th>count</th>\n",
       "      <td>5,440.00</td>\n",
       "      <td>5,440.00</td>\n",
       "    </tr>\n",
       "    <tr>\n",
       "      <th>mean</th>\n",
       "      <td>2,061,575.96</td>\n",
       "      <td>62,607.62</td>\n",
       "    </tr>\n",
       "    <tr>\n",
       "      <th>std</th>\n",
       "      <td>3,567,097.77</td>\n",
       "      <td>107,646.77</td>\n",
       "    </tr>\n",
       "    <tr>\n",
       "      <th>min</th>\n",
       "      <td>532.00</td>\n",
       "      <td>15.00</td>\n",
       "    </tr>\n",
       "    <tr>\n",
       "      <th>25%</th>\n",
       "      <td>670,750.00</td>\n",
       "      <td>20,000.00</td>\n",
       "    </tr>\n",
       "    <tr>\n",
       "      <th>50%</th>\n",
       "      <td>1,300,000.00</td>\n",
       "      <td>40,500.00</td>\n",
       "    </tr>\n",
       "    <tr>\n",
       "      <th>75%</th>\n",
       "      <td>2,100,000.00</td>\n",
       "      <td>65,000.00</td>\n",
       "    </tr>\n",
       "    <tr>\n",
       "      <th>max</th>\n",
       "      <td>72,000,000.00</td>\n",
       "      <td>2,100,000.00</td>\n",
       "    </tr>\n",
       "  </tbody>\n",
       "</table>\n",
       "</div>"
      ],
      "text/plain": [
       "                     views                likes\n",
       "count             5,440.00             5,440.00\n",
       "mean          2,061,575.96            62,607.62\n",
       "std           3,567,097.77           107,646.77\n",
       "min                 532.00                15.00\n",
       "25%             670,750.00            20,000.00\n",
       "50%           1,300,000.00            40,500.00\n",
       "75%           2,100,000.00            65,000.00\n",
       "max          72,000,000.00         2,100,000.00"
      ]
     },
     "execution_count": 13,
     "metadata": {},
     "output_type": "execute_result"
    }
   ],
   "source": [
    "raw_data.describe()"
   ]
  },
  {
   "cell_type": "markdown",
   "id": "52d001d8",
   "metadata": {},
   "source": [
    "### Dropping the missing value and unnecessary column"
   ]
  },
  {
   "cell_type": "code",
   "execution_count": 31,
   "id": "8d1a68fc",
   "metadata": {},
   "outputs": [],
   "source": [
    "data_cleaned = raw_data.dropna()\n",
    "data_cleaned = data_cleaned.drop('link',axis=1)"
   ]
  },
  {
   "cell_type": "code",
   "execution_count": 32,
   "id": "58a3b869",
   "metadata": {},
   "outputs": [
    {
     "data": {
      "text/plain": [
       "title     0\n",
       "author    0\n",
       "date      0\n",
       "views     0\n",
       "likes     0\n",
       "dtype: int64"
      ]
     },
     "execution_count": 32,
     "metadata": {},
     "output_type": "execute_result"
    }
   ],
   "source": [
    "#Checking missing values\n",
    "data_cleaned.isna().sum()"
   ]
  },
  {
   "cell_type": "code",
   "execution_count": 33,
   "id": "6c290e70",
   "metadata": {},
   "outputs": [
    {
     "data": {
      "image/png": "[encoded data removed]",
      "text/plain": [
       "<Figure size 432x288 with 1 Axes>"
      ]
     },
     "metadata": {},
     "output_type": "display_data"
    }
   ],
   "source": [
    "#Correlation between views and likes\n",
    "plt.scatter(data_cleaned['views'],data_cleaned['likes'])\n",
    "plt.xlabel('Views')\n",
    "plt.ylabel('Likes')\n",
    "plt.title('Views and Likes (in Million)')\n",
    "plt.show()"
   ]
  },
  {
   "cell_type": "markdown",
   "id": "f56ff64e",
   "metadata": {},
   "source": [
    "Looks likes a straight line. Which meant that as the views goes up, the likes count goes up too!"
   ]
  },
  {
   "cell_type": "markdown",
   "id": "713de4d3",
   "metadata": {},
   "source": [
    "### Extracting Year and Month from the Date Column"
   ]
  },
  {
   "cell_type": "code",
   "execution_count": 34,
   "id": "539d920e",
   "metadata": {},
   "outputs": [
    {
     "data": {
      "text/html": [
       "<div>\n",
       "<style scoped>\n",
       "    .dataframe tbody tr th:only-of-type {\n",
       "        vertical-align: middle;\n",
       "    }\n",
       "\n",
       "    .dataframe tbody tr th {\n",
       "        vertical-align: top;\n",
       "    }\n",
       "\n",
       "    .dataframe thead th {\n",
       "        text-align: right;\n",
       "    }\n",
       "</style>\n",
       "<table border=\"1\" class=\"dataframe\">\n",
       "  <thead>\n",
       "    <tr style=\"text-align: right;\">\n",
       "      <th></th>\n",
       "      <th>title</th>\n",
       "      <th>author</th>\n",
       "      <th>date</th>\n",
       "      <th>views</th>\n",
       "      <th>likes</th>\n",
       "    </tr>\n",
       "  </thead>\n",
       "  <tbody>\n",
       "    <tr>\n",
       "      <th>0</th>\n",
       "      <td>Climate action needs new frontline leadership</td>\n",
       "      <td>Ozawa Bineshi Albert</td>\n",
       "      <td>2021-12-01</td>\n",
       "      <td>404000</td>\n",
       "      <td>12000</td>\n",
       "    </tr>\n",
       "    <tr>\n",
       "      <th>1</th>\n",
       "      <td>The dark history of the overthrow of Hawaii</td>\n",
       "      <td>Sydney Iaukea</td>\n",
       "      <td>2022-02-01</td>\n",
       "      <td>214000</td>\n",
       "      <td>6400</td>\n",
       "    </tr>\n",
       "    <tr>\n",
       "      <th>2</th>\n",
       "      <td>How play can spark new ideas for your business</td>\n",
       "      <td>Martin Reeves</td>\n",
       "      <td>2021-09-01</td>\n",
       "      <td>412000</td>\n",
       "      <td>12000</td>\n",
       "    </tr>\n",
       "    <tr>\n",
       "      <th>3</th>\n",
       "      <td>Why is China appointing judges to combat clima...</td>\n",
       "      <td>James K. Thornton</td>\n",
       "      <td>2021-10-01</td>\n",
       "      <td>427000</td>\n",
       "      <td>12000</td>\n",
       "    </tr>\n",
       "    <tr>\n",
       "      <th>4</th>\n",
       "      <td>Cement's carbon problem — and 2 ways to fix it</td>\n",
       "      <td>Mahendra Singhi</td>\n",
       "      <td>2021-10-01</td>\n",
       "      <td>2400</td>\n",
       "      <td>72</td>\n",
       "    </tr>\n",
       "  </tbody>\n",
       "</table>\n",
       "</div>"
      ],
      "text/plain": [
       "                                               title                author  \\\n",
       "0      Climate action needs new frontline leadership  Ozawa Bineshi Albert   \n",
       "1        The dark history of the overthrow of Hawaii         Sydney Iaukea   \n",
       "2     How play can spark new ideas for your business         Martin Reeves   \n",
       "3  Why is China appointing judges to combat clima...     James K. Thornton   \n",
       "4     Cement's carbon problem — and 2 ways to fix it       Mahendra Singhi   \n",
       "\n",
       "        date   views  likes  \n",
       "0 2021-12-01  404000  12000  \n",
       "1 2022-02-01  214000   6400  \n",
       "2 2021-09-01  412000  12000  \n",
       "3 2021-10-01  427000  12000  \n",
       "4 2021-10-01    2400     72  "
      ]
     },
     "execution_count": 34,
     "metadata": {},
     "output_type": "execute_result"
    }
   ],
   "source": [
    "data_cleaned['date'] = pd.to_datetime(data_cleaned['date'])\n",
    "data_cleaned.head()"
   ]
  },
  {
   "cell_type": "code",
   "execution_count": 35,
   "id": "b83a0ed2",
   "metadata": {},
   "outputs": [
    {
     "data": {
      "text/html": [
       "<div>\n",
       "<style scoped>\n",
       "    .dataframe tbody tr th:only-of-type {\n",
       "        vertical-align: middle;\n",
       "    }\n",
       "\n",
       "    .dataframe tbody tr th {\n",
       "        vertical-align: top;\n",
       "    }\n",
       "\n",
       "    .dataframe thead th {\n",
       "        text-align: right;\n",
       "    }\n",
       "</style>\n",
       "<table border=\"1\" class=\"dataframe\">\n",
       "  <thead>\n",
       "    <tr style=\"text-align: right;\">\n",
       "      <th></th>\n",
       "      <th>title</th>\n",
       "      <th>author</th>\n",
       "      <th>views</th>\n",
       "      <th>likes</th>\n",
       "      <th>year</th>\n",
       "      <th>month</th>\n",
       "    </tr>\n",
       "  </thead>\n",
       "  <tbody>\n",
       "    <tr>\n",
       "      <th>0</th>\n",
       "      <td>Climate action needs new frontline leadership</td>\n",
       "      <td>Ozawa Bineshi Albert</td>\n",
       "      <td>404000</td>\n",
       "      <td>12000</td>\n",
       "      <td>2021</td>\n",
       "      <td>12</td>\n",
       "    </tr>\n",
       "    <tr>\n",
       "      <th>1</th>\n",
       "      <td>The dark history of the overthrow of Hawaii</td>\n",
       "      <td>Sydney Iaukea</td>\n",
       "      <td>214000</td>\n",
       "      <td>6400</td>\n",
       "      <td>2022</td>\n",
       "      <td>2</td>\n",
       "    </tr>\n",
       "    <tr>\n",
       "      <th>2</th>\n",
       "      <td>How play can spark new ideas for your business</td>\n",
       "      <td>Martin Reeves</td>\n",
       "      <td>412000</td>\n",
       "      <td>12000</td>\n",
       "      <td>2021</td>\n",
       "      <td>9</td>\n",
       "    </tr>\n",
       "    <tr>\n",
       "      <th>3</th>\n",
       "      <td>Why is China appointing judges to combat clima...</td>\n",
       "      <td>James K. Thornton</td>\n",
       "      <td>427000</td>\n",
       "      <td>12000</td>\n",
       "      <td>2021</td>\n",
       "      <td>10</td>\n",
       "    </tr>\n",
       "    <tr>\n",
       "      <th>4</th>\n",
       "      <td>Cement's carbon problem — and 2 ways to fix it</td>\n",
       "      <td>Mahendra Singhi</td>\n",
       "      <td>2400</td>\n",
       "      <td>72</td>\n",
       "      <td>2021</td>\n",
       "      <td>10</td>\n",
       "    </tr>\n",
       "  </tbody>\n",
       "</table>\n",
       "</div>"
      ],
      "text/plain": [
       "                                               title                author  \\\n",
       "0      Climate action needs new frontline leadership  Ozawa Bineshi Albert   \n",
       "1        The dark history of the overthrow of Hawaii         Sydney Iaukea   \n",
       "2     How play can spark new ideas for your business         Martin Reeves   \n",
       "3  Why is China appointing judges to combat clima...     James K. Thornton   \n",
       "4     Cement's carbon problem — and 2 ways to fix it       Mahendra Singhi   \n",
       "\n",
       "    views  likes  year  month  \n",
       "0  404000  12000  2021     12  \n",
       "1  214000   6400  2022      2  \n",
       "2  412000  12000  2021      9  \n",
       "3  427000  12000  2021     10  \n",
       "4    2400     72  2021     10  "
      ]
     },
     "execution_count": 35,
     "metadata": {},
     "output_type": "execute_result"
    }
   ],
   "source": [
    "#Extracting the month and year from the date column. And the dropping the date column\n",
    "data_cleaned['year'] = pd.DatetimeIndex(data_cleaned['date']).year\n",
    "data_cleaned['month'] = pd.DatetimeIndex(data_cleaned['date']).month\n",
    "data_cleaned = data_cleaned.drop('date',axis=1)\n",
    "data_cleaned.head()"
   ]
  },
  {
   "cell_type": "code",
   "execution_count": 37,
   "id": "d00262ea",
   "metadata": {},
   "outputs": [
    {
     "data": {
      "text/plain": [
       "array(['title', 'author', 'views', 'likes', 'year', 'month'], dtype=object)"
      ]
     },
     "execution_count": 37,
     "metadata": {},
     "output_type": "execute_result"
    }
   ],
   "source": [
    "#Rearranging the Columns\n",
    "data_cleaned.columns.values"
   ]
  },
  {
   "cell_type": "code",
   "execution_count": 38,
   "id": "9c529529",
   "metadata": {},
   "outputs": [
    {
     "data": {
      "text/html": [
       "<div>\n",
       "<style scoped>\n",
       "    .dataframe tbody tr th:only-of-type {\n",
       "        vertical-align: middle;\n",
       "    }\n",
       "\n",
       "    .dataframe tbody tr th {\n",
       "        vertical-align: top;\n",
       "    }\n",
       "\n",
       "    .dataframe thead th {\n",
       "        text-align: right;\n",
       "    }\n",
       "</style>\n",
       "<table border=\"1\" class=\"dataframe\">\n",
       "  <thead>\n",
       "    <tr style=\"text-align: right;\">\n",
       "      <th></th>\n",
       "      <th>title</th>\n",
       "      <th>author</th>\n",
       "      <th>month</th>\n",
       "      <th>year</th>\n",
       "      <th>likes</th>\n",
       "      <th>views</th>\n",
       "    </tr>\n",
       "  </thead>\n",
       "  <tbody>\n",
       "    <tr>\n",
       "      <th>0</th>\n",
       "      <td>Climate action needs new frontline leadership</td>\n",
       "      <td>Ozawa Bineshi Albert</td>\n",
       "      <td>12</td>\n",
       "      <td>2021</td>\n",
       "      <td>12000</td>\n",
       "      <td>404000</td>\n",
       "    </tr>\n",
       "    <tr>\n",
       "      <th>1</th>\n",
       "      <td>The dark history of the overthrow of Hawaii</td>\n",
       "      <td>Sydney Iaukea</td>\n",
       "      <td>2</td>\n",
       "      <td>2022</td>\n",
       "      <td>6400</td>\n",
       "      <td>214000</td>\n",
       "    </tr>\n",
       "    <tr>\n",
       "      <th>2</th>\n",
       "      <td>How play can spark new ideas for your business</td>\n",
       "      <td>Martin Reeves</td>\n",
       "      <td>9</td>\n",
       "      <td>2021</td>\n",
       "      <td>12000</td>\n",
       "      <td>412000</td>\n",
       "    </tr>\n",
       "    <tr>\n",
       "      <th>3</th>\n",
       "      <td>Why is China appointing judges to combat clima...</td>\n",
       "      <td>James K. Thornton</td>\n",
       "      <td>10</td>\n",
       "      <td>2021</td>\n",
       "      <td>12000</td>\n",
       "      <td>427000</td>\n",
       "    </tr>\n",
       "    <tr>\n",
       "      <th>4</th>\n",
       "      <td>Cement's carbon problem — and 2 ways to fix it</td>\n",
       "      <td>Mahendra Singhi</td>\n",
       "      <td>10</td>\n",
       "      <td>2021</td>\n",
       "      <td>72</td>\n",
       "      <td>2400</td>\n",
       "    </tr>\n",
       "  </tbody>\n",
       "</table>\n",
       "</div>"
      ],
      "text/plain": [
       "                                               title                author  \\\n",
       "0      Climate action needs new frontline leadership  Ozawa Bineshi Albert   \n",
       "1        The dark history of the overthrow of Hawaii         Sydney Iaukea   \n",
       "2     How play can spark new ideas for your business         Martin Reeves   \n",
       "3  Why is China appointing judges to combat clima...     James K. Thornton   \n",
       "4     Cement's carbon problem — and 2 ways to fix it       Mahendra Singhi   \n",
       "\n",
       "   month  year  likes   views  \n",
       "0     12  2021  12000  404000  \n",
       "1      2  2022   6400  214000  \n",
       "2      9  2021  12000  412000  \n",
       "3     10  2021  12000  427000  \n",
       "4     10  2021     72    2400  "
      ]
     },
     "execution_count": 38,
     "metadata": {},
     "output_type": "execute_result"
    }
   ],
   "source": [
    "data_cleaned = data_cleaned[['title', 'author', 'month','year','likes','views']]\n",
    "data_cleaned.head()"
   ]
  },
  {
   "cell_type": "markdown",
   "id": "8b644dec",
   "metadata": {},
   "source": [
    "### Finding Average Likes and Views from Each Year"
   ]
  },
  {
   "cell_type": "code",
   "execution_count": 47,
   "id": "d675dc0a",
   "metadata": {},
   "outputs": [
    {
     "data": {
      "text/plain": [
       "2019    544\n",
       "2020    501\n",
       "2017    495\n",
       "2018    473\n",
       "2016    399\n",
       "2021    390\n",
       "2013    388\n",
       "2015    376\n",
       "2014    357\n",
       "2012    302\n",
       "2011    271\n",
       "2010    267\n",
       "2009    233\n",
       "2007    113\n",
       "2008     84\n",
       "2005     65\n",
       "2006     49\n",
       "2003     34\n",
       "2004     33\n",
       "2002     26\n",
       "2022     20\n",
       "1998      6\n",
       "2001      5\n",
       "1970      2\n",
       "1990      1\n",
       "1994      1\n",
       "1991      1\n",
       "1983      1\n",
       "1972      1\n",
       "1984      1\n",
       "Name: year, dtype: int64"
      ]
     },
     "execution_count": 47,
     "metadata": {},
     "output_type": "execute_result"
    }
   ],
   "source": [
    "#Calculating how many videos are posted each year\n",
    "data_cleaned['year'].value_counts()"
   ]
  },
  {
   "cell_type": "code",
   "execution_count": 45,
   "id": "074ed963",
   "metadata": {
    "scrolled": false
   },
   "outputs": [
    {
     "data": {
      "text/html": [
       "<div>\n",
       "<style scoped>\n",
       "    .dataframe tbody tr th:only-of-type {\n",
       "        vertical-align: middle;\n",
       "    }\n",
       "\n",
       "    .dataframe tbody tr th {\n",
       "        vertical-align: top;\n",
       "    }\n",
       "\n",
       "    .dataframe thead th {\n",
       "        text-align: right;\n",
       "    }\n",
       "</style>\n",
       "<table border=\"1\" class=\"dataframe\">\n",
       "  <thead>\n",
       "    <tr style=\"text-align: right;\">\n",
       "      <th></th>\n",
       "      <th>month</th>\n",
       "      <th>year</th>\n",
       "      <th>likes</th>\n",
       "      <th>views</th>\n",
       "    </tr>\n",
       "  </thead>\n",
       "  <tbody>\n",
       "    <tr>\n",
       "      <th>count</th>\n",
       "      <td>26.00</td>\n",
       "      <td>26.00</td>\n",
       "      <td>26.00</td>\n",
       "      <td>26.00</td>\n",
       "    </tr>\n",
       "    <tr>\n",
       "      <th>mean</th>\n",
       "      <td>2.08</td>\n",
       "      <td>2,002.00</td>\n",
       "      <td>35,219.23</td>\n",
       "      <td>1,170,846.15</td>\n",
       "    </tr>\n",
       "    <tr>\n",
       "      <th>std</th>\n",
       "      <td>0.27</td>\n",
       "      <td>0.00</td>\n",
       "      <td>36,965.74</td>\n",
       "      <td>1,221,136.97</td>\n",
       "    </tr>\n",
       "    <tr>\n",
       "      <th>min</th>\n",
       "      <td>2.00</td>\n",
       "      <td>2,002.00</td>\n",
       "      <td>6,700.00</td>\n",
       "      <td>225,000.00</td>\n",
       "    </tr>\n",
       "    <tr>\n",
       "      <th>25%</th>\n",
       "      <td>2.00</td>\n",
       "      <td>2,002.00</td>\n",
       "      <td>18,250.00</td>\n",
       "      <td>629,000.00</td>\n",
       "    </tr>\n",
       "    <tr>\n",
       "      <th>50%</th>\n",
       "      <td>2.00</td>\n",
       "      <td>2,002.00</td>\n",
       "      <td>25,000.00</td>\n",
       "      <td>858,500.00</td>\n",
       "    </tr>\n",
       "    <tr>\n",
       "      <th>75%</th>\n",
       "      <td>2.00</td>\n",
       "      <td>2,002.00</td>\n",
       "      <td>33,750.00</td>\n",
       "      <td>1,100,000.00</td>\n",
       "    </tr>\n",
       "    <tr>\n",
       "      <th>max</th>\n",
       "      <td>3.00</td>\n",
       "      <td>2,002.00</td>\n",
       "      <td>192,000.00</td>\n",
       "      <td>6,400,000.00</td>\n",
       "    </tr>\n",
       "  </tbody>\n",
       "</table>\n",
       "</div>"
      ],
      "text/plain": [
       "                     month                 year                likes  \\\n",
       "count                26.00                26.00                26.00   \n",
       "mean                  2.08             2,002.00            35,219.23   \n",
       "std                   0.27                 0.00            36,965.74   \n",
       "min                   2.00             2,002.00             6,700.00   \n",
       "25%                   2.00             2,002.00            18,250.00   \n",
       "50%                   2.00             2,002.00            25,000.00   \n",
       "75%                   2.00             2,002.00            33,750.00   \n",
       "max                   3.00             2,002.00           192,000.00   \n",
       "\n",
       "                     views  \n",
       "count                26.00  \n",
       "mean          1,170,846.15  \n",
       "std           1,221,136.97  \n",
       "min             225,000.00  \n",
       "25%             629,000.00  \n",
       "50%             858,500.00  \n",
       "75%           1,100,000.00  \n",
       "max           6,400,000.00  "
      ]
     },
     "execution_count": 45,
     "metadata": {},
     "output_type": "execute_result"
    }
   ],
   "source": [
    "#we can check each year like this\n",
    "#Lets say we want to check TedTalks that occur in 2002\n",
    "data_cleaned[data_cleaned['year'] ==  2002].describe()"
   ]
  },
  {
   "cell_type": "markdown",
   "id": "8c683e29",
   "metadata": {},
   "source": [
    "- From the table above, we got that the average views for Ted Talks video in 2002 is 1,170,846. And the average likes is 35,219."
   ]
  },
  {
   "cell_type": "code",
   "execution_count": 41,
   "id": "84771a87",
   "metadata": {},
   "outputs": [
    {
     "data": {
      "text/html": [
       "<div>\n",
       "<style scoped>\n",
       "    .dataframe tbody tr th:only-of-type {\n",
       "        vertical-align: middle;\n",
       "    }\n",
       "\n",
       "    .dataframe tbody tr th {\n",
       "        vertical-align: top;\n",
       "    }\n",
       "\n",
       "    .dataframe thead th {\n",
       "        text-align: right;\n",
       "    }\n",
       "</style>\n",
       "<table border=\"1\" class=\"dataframe\">\n",
       "  <thead>\n",
       "    <tr style=\"text-align: right;\">\n",
       "      <th></th>\n",
       "      <th>month</th>\n",
       "      <th>year</th>\n",
       "      <th>likes</th>\n",
       "      <th>views</th>\n",
       "    </tr>\n",
       "  </thead>\n",
       "  <tbody>\n",
       "    <tr>\n",
       "      <th>count</th>\n",
       "      <td>473.00</td>\n",
       "      <td>473.00</td>\n",
       "      <td>473.00</td>\n",
       "      <td>473.00</td>\n",
       "    </tr>\n",
       "    <tr>\n",
       "      <th>mean</th>\n",
       "      <td>7.58</td>\n",
       "      <td>2,018.00</td>\n",
       "      <td>52,159.60</td>\n",
       "      <td>1,716,400.84</td>\n",
       "    </tr>\n",
       "    <tr>\n",
       "      <th>std</th>\n",
       "      <td>3.27</td>\n",
       "      <td>0.00</td>\n",
       "      <td>54,188.66</td>\n",
       "      <td>1,769,994.79</td>\n",
       "    </tr>\n",
       "    <tr>\n",
       "      <th>min</th>\n",
       "      <td>1.00</td>\n",
       "      <td>2,018.00</td>\n",
       "      <td>40.00</td>\n",
       "      <td>1,300.00</td>\n",
       "    </tr>\n",
       "    <tr>\n",
       "      <th>25%</th>\n",
       "      <td>4.00</td>\n",
       "      <td>2,018.00</td>\n",
       "      <td>10,000.00</td>\n",
       "      <td>352,000.00</td>\n",
       "    </tr>\n",
       "    <tr>\n",
       "      <th>50%</th>\n",
       "      <td>8.00</td>\n",
       "      <td>2,018.00</td>\n",
       "      <td>48,000.00</td>\n",
       "      <td>1,600,000.00</td>\n",
       "    </tr>\n",
       "    <tr>\n",
       "      <th>75%</th>\n",
       "      <td>11.00</td>\n",
       "      <td>2,018.00</td>\n",
       "      <td>68,000.00</td>\n",
       "      <td>2,200,000.00</td>\n",
       "    </tr>\n",
       "    <tr>\n",
       "      <th>max</th>\n",
       "      <td>12.00</td>\n",
       "      <td>2,018.00</td>\n",
       "      <td>435,000.00</td>\n",
       "      <td>14,000,000.00</td>\n",
       "    </tr>\n",
       "  </tbody>\n",
       "</table>\n",
       "</div>"
      ],
      "text/plain": [
       "                     month                 year                likes  \\\n",
       "count               473.00               473.00               473.00   \n",
       "mean                  7.58             2,018.00            52,159.60   \n",
       "std                   3.27                 0.00            54,188.66   \n",
       "min                   1.00             2,018.00                40.00   \n",
       "25%                   4.00             2,018.00            10,000.00   \n",
       "50%                   8.00             2,018.00            48,000.00   \n",
       "75%                  11.00             2,018.00            68,000.00   \n",
       "max                  12.00             2,018.00           435,000.00   \n",
       "\n",
       "                     views  \n",
       "count               473.00  \n",
       "mean          1,716,400.84  \n",
       "std           1,769,994.79  \n",
       "min               1,300.00  \n",
       "25%             352,000.00  \n",
       "50%           1,600,000.00  \n",
       "75%           2,200,000.00  \n",
       "max          14,000,000.00  "
      ]
     },
     "execution_count": 41,
     "metadata": {},
     "output_type": "execute_result"
    }
   ],
   "source": [
    "#or maybe more recent one, like 2018\n",
    "data_cleaned[data_cleaned['year'] ==  2018].describe()"
   ]
  },
  {
   "cell_type": "markdown",
   "id": "7757b419",
   "metadata": {},
   "source": [
    "- In 2018, the average views for each video is 1,716,400. While the average likes is 52,159"
   ]
  },
  {
   "cell_type": "code",
   "execution_count": 191,
   "id": "655babd0",
   "metadata": {},
   "outputs": [],
   "source": [
    "#making new tables\n",
    "table = {'views':[],'likes':[], 'month':[],'year':[]}\n",
    "average_table = pd.DataFrame(table)"
   ]
  },
  {
   "cell_type": "code",
   "execution_count": 192,
   "id": "90964e58",
   "metadata": {},
   "outputs": [
    {
     "name": "stderr",
     "output_type": "stream",
     "text": [
      "C:\\Users\\user\\AppData\\Local\\Temp/ipykernel_18644/784053872.py:3: FutureWarning: Dropping of nuisance columns in DataFrame reductions (with 'numeric_only=None') is deprecated; in a future version this will raise TypeError.  Select only valid columns before calling the reduction.\n",
      "  average_table = average_table.append(data_cleaned[data_cleaned['year'] == i].mean(),ignore_index=True)\n"
     ]
    },
    {
     "data": {
      "text/html": [
       "<div>\n",
       "<style scoped>\n",
       "    .dataframe tbody tr th:only-of-type {\n",
       "        vertical-align: middle;\n",
       "    }\n",
       "\n",
       "    .dataframe tbody tr th {\n",
       "        vertical-align: top;\n",
       "    }\n",
       "\n",
       "    .dataframe thead th {\n",
       "        text-align: right;\n",
       "    }\n",
       "</style>\n",
       "<table border=\"1\" class=\"dataframe\">\n",
       "  <thead>\n",
       "    <tr style=\"text-align: right;\">\n",
       "      <th></th>\n",
       "      <th>views</th>\n",
       "      <th>likes</th>\n",
       "      <th>month</th>\n",
       "      <th>year</th>\n",
       "      <th>author</th>\n",
       "      <th>title</th>\n",
       "    </tr>\n",
       "  </thead>\n",
       "  <tbody>\n",
       "    <tr>\n",
       "      <th>0</th>\n",
       "      <td>126,000.00</td>\n",
       "      <td>3,750.00</td>\n",
       "      <td>1.00</td>\n",
       "      <td>1,970.00</td>\n",
       "      <td>NaN</td>\n",
       "      <td>NaN</td>\n",
       "    </tr>\n",
       "    <tr>\n",
       "      <th>1</th>\n",
       "      <td>NaN</td>\n",
       "      <td>NaN</td>\n",
       "      <td>NaN</td>\n",
       "      <td>NaN</td>\n",
       "      <td>NaN</td>\n",
       "      <td>NaN</td>\n",
       "    </tr>\n",
       "    <tr>\n",
       "      <th>2</th>\n",
       "      <td>1,300,000.00</td>\n",
       "      <td>41,000.00</td>\n",
       "      <td>5.00</td>\n",
       "      <td>1,972.00</td>\n",
       "      <td>NaN</td>\n",
       "      <td>NaN</td>\n",
       "    </tr>\n",
       "    <tr>\n",
       "      <th>3</th>\n",
       "      <td>NaN</td>\n",
       "      <td>NaN</td>\n",
       "      <td>NaN</td>\n",
       "      <td>NaN</td>\n",
       "      <td>NaN</td>\n",
       "      <td>NaN</td>\n",
       "    </tr>\n",
       "    <tr>\n",
       "      <th>4</th>\n",
       "      <td>NaN</td>\n",
       "      <td>NaN</td>\n",
       "      <td>NaN</td>\n",
       "      <td>NaN</td>\n",
       "      <td>NaN</td>\n",
       "      <td>NaN</td>\n",
       "    </tr>\n",
       "  </tbody>\n",
       "</table>\n",
       "</div>"
      ],
      "text/plain": [
       "                 views                likes                month  \\\n",
       "0           126,000.00             3,750.00                 1.00   \n",
       "1                  NaN                  NaN                  NaN   \n",
       "2         1,300,000.00            41,000.00                 5.00   \n",
       "3                  NaN                  NaN                  NaN   \n",
       "4                  NaN                  NaN                  NaN   \n",
       "\n",
       "                  year  author  title  \n",
       "0             1,970.00     NaN    NaN  \n",
       "1                  NaN     NaN    NaN  \n",
       "2             1,972.00     NaN    NaN  \n",
       "3                  NaN     NaN    NaN  \n",
       "4                  NaN     NaN    NaN  "
      ]
     },
     "execution_count": 192,
     "metadata": {},
     "output_type": "execute_result"
    }
   ],
   "source": [
    "#inputing the average data in the table\n",
    "for i in range (1970,2023):\n",
    "    average_table = average_table.append(data_cleaned[data_cleaned['year'] == i].mean(),ignore_index=True)\n",
    "average_table.head()"
   ]
  },
  {
   "cell_type": "code",
   "execution_count": 193,
   "id": "c8ac17f4",
   "metadata": {},
   "outputs": [],
   "source": [
    "#dropping author and title column\n",
    "average_table = average_table.drop(['author','title','month'],axis=1)"
   ]
  },
  {
   "cell_type": "code",
   "execution_count": 194,
   "id": "df1aaea1",
   "metadata": {},
   "outputs": [
    {
     "data": {
      "text/plain": [
       "views    23\n",
       "likes    23\n",
       "year     23\n",
       "dtype: int64"
      ]
     },
     "execution_count": 194,
     "metadata": {},
     "output_type": "execute_result"
    }
   ],
   "source": [
    "#checking missing values in average_table\n",
    "average_table.isna().sum()"
   ]
  },
  {
   "cell_type": "code",
   "execution_count": 195,
   "id": "d70d8aa8",
   "metadata": {},
   "outputs": [
    {
     "data": {
      "text/plain": [
       "views    23\n",
       "likes    23\n",
       "year     23\n",
       "dtype: int64"
      ]
     },
     "execution_count": 195,
     "metadata": {},
     "output_type": "execute_result"
    }
   ],
   "source": [
    "average_table.isna().sum()"
   ]
  },
  {
   "cell_type": "code",
   "execution_count": 196,
   "id": "e539cc38",
   "metadata": {},
   "outputs": [],
   "source": [
    "#dropping missing value\n",
    "average_table = average_table.dropna()"
   ]
  },
  {
   "cell_type": "code",
   "execution_count": 197,
   "id": "1a2729ab",
   "metadata": {},
   "outputs": [
    {
     "data": {
      "text/plain": [
       "views    0\n",
       "likes    0\n",
       "year     0\n",
       "dtype: int64"
      ]
     },
     "execution_count": 197,
     "metadata": {},
     "output_type": "execute_result"
    }
   ],
   "source": [
    "#checking missing value\n",
    "average_table.isna().sum()"
   ]
  },
  {
   "cell_type": "code",
   "execution_count": 198,
   "id": "f9fcf0b5",
   "metadata": {},
   "outputs": [
    {
     "data": {
      "text/plain": [
       "0"
      ]
     },
     "execution_count": 198,
     "metadata": {},
     "output_type": "execute_result"
    }
   ],
   "source": [
    "#checking duplicates\n",
    "len(average_table[average_table.duplicated() == True])"
   ]
  },
  {
   "cell_type": "code",
   "execution_count": 199,
   "id": "7c26c067",
   "metadata": {},
   "outputs": [
    {
     "name": "stdout",
     "output_type": "stream",
     "text": [
      "<class 'pandas.core.frame.DataFrame'>\n",
      "Int64Index: 30 entries, 0 to 52\n",
      "Data columns (total 3 columns):\n",
      " #   Column  Non-Null Count  Dtype  \n",
      "---  ------  --------------  -----  \n",
      " 0   views   30 non-null     float64\n",
      " 1   likes   30 non-null     float64\n",
      " 2   year    30 non-null     float64\n",
      "dtypes: float64(3)\n",
      "memory usage: 960.0 bytes\n"
     ]
    }
   ],
   "source": [
    "average_table.info()"
   ]
  },
  {
   "cell_type": "code",
   "execution_count": 200,
   "id": "ebf6ef57",
   "metadata": {},
   "outputs": [],
   "source": [
    "data_types = {'year':int}\n",
    "average_table = average_table.astype(data_types)\n",
    "average_table = average_table.reset_index()"
   ]
  },
  {
   "cell_type": "code",
   "execution_count": 201,
   "id": "0da3ead3",
   "metadata": {
    "scrolled": true
   },
   "outputs": [],
   "source": [
    "average_table = average_table.drop('index',axis = 1)\n",
    "average_table = average_table[['year','views','likes']]"
   ]
  },
  {
   "cell_type": "markdown",
   "id": "07cce245",
   "metadata": {},
   "source": [
    "### Visualizing Views and Likes per Year"
   ]
  },
  {
   "cell_type": "code",
   "execution_count": 202,
   "id": "051d3155",
   "metadata": {},
   "outputs": [
    {
     "data": {
      "image/png": "[encoded data removed]",
      "text/plain": [
       "<Figure size 432x288 with 1 Axes>"
      ]
     },
     "metadata": {},
     "output_type": "display_data"
    }
   ],
   "source": [
    "#scatterplot\n",
    "plt.scatter(average_table['year'],average_table['views'])\n",
    "plt.xlabel('year')\n",
    "plt.ylabel('views')\n",
    "plt.show()"
   ]
  },
  {
   "cell_type": "code",
   "execution_count": 203,
   "id": "ac126677",
   "metadata": {
    "scrolled": true
   },
   "outputs": [
    {
     "data": {
      "image/png": "[encoded data removed]",
      "text/plain": [
       "<Figure size 432x288 with 1 Axes>"
      ]
     },
     "metadata": {},
     "output_type": "display_data"
    }
   ],
   "source": [
    "plt.plot(average_table['year'],average_table['views'])\n",
    "plt.xlabel('year')\n",
    "plt.ylabel('views (in millions)')\n",
    "plt.show()"
   ]
  },
  {
   "cell_type": "markdown",
   "id": "47191807",
   "metadata": {},
   "source": [
    "### Summary of Views"
   ]
  },
  {
   "cell_type": "code",
   "execution_count": 206,
   "id": "0b48b4ef",
   "metadata": {},
   "outputs": [
    {
     "data": {
      "text/plain": [
       "3696122.4285714286"
      ]
     },
     "execution_count": 206,
     "metadata": {},
     "output_type": "execute_result"
    }
   ],
   "source": [
    "views_table = average_table.drop('likes',axis=1)\n",
    "views_table['views'].max()"
   ]
  },
  {
   "cell_type": "code",
   "execution_count": 240,
   "id": "11150fda",
   "metadata": {},
   "outputs": [],
   "source": [
    "max_view = views_table['views'].max()\n",
    "avg_view = views_table['views'].mean()\n",
    "min_view = views_table['views'].min()"
   ]
  },
  {
   "cell_type": "code",
   "execution_count": 246,
   "id": "ae0e5a2b",
   "metadata": {},
   "outputs": [
    {
     "name": "stdout",
     "output_type": "stream",
     "text": [
      "The most view in a year for Ted Talks, with 3696122.4 views.\n",
      "Average view in each year from 1970-2022 is 1755508.4 views.\n",
      "The lowest view count in a year for Ted Talks video is 126000.0 views\n"
     ]
    }
   ],
   "source": [
    "#Printing max, avg, min views\n",
    "print(f'The most view in a year for Ted Talks, with {round(max_view,1)} views.')\n",
    "print(f'Average view in each year from 1970-2022 is {round(avg_view,1)} views.')\n",
    "print(f'The lowest view count in a year for Ted Talks video is {min_view} views')"
   ]
  },
  {
   "cell_type": "markdown",
   "id": "cd357da1",
   "metadata": {},
   "source": [
    "### When Maximum and Minimum view happens?"
   ]
  },
  {
   "cell_type": "code",
   "execution_count": 244,
   "id": "ede1d4af",
   "metadata": {},
   "outputs": [
    {
     "data": {
      "text/html": [
       "<div>\n",
       "<style scoped>\n",
       "    .dataframe tbody tr th:only-of-type {\n",
       "        vertical-align: middle;\n",
       "    }\n",
       "\n",
       "    .dataframe tbody tr th {\n",
       "        vertical-align: top;\n",
       "    }\n",
       "\n",
       "    .dataframe thead th {\n",
       "        text-align: right;\n",
       "    }\n",
       "</style>\n",
       "<table border=\"1\" class=\"dataframe\">\n",
       "  <thead>\n",
       "    <tr style=\"text-align: right;\">\n",
       "      <th></th>\n",
       "      <th>year</th>\n",
       "      <th>views</th>\n",
       "    </tr>\n",
       "  </thead>\n",
       "  <tbody>\n",
       "    <tr>\n",
       "      <th>13</th>\n",
       "      <td>2006</td>\n",
       "      <td>3,696,122.43</td>\n",
       "    </tr>\n",
       "  </tbody>\n",
       "</table>\n",
       "</div>"
      ],
      "text/plain": [
       "    year                views\n",
       "13  2006         3,696,122.43"
      ]
     },
     "execution_count": 244,
     "metadata": {},
     "output_type": "execute_result"
    }
   ],
   "source": [
    "#Maximum Views\n",
    "views_table[views_table['views'] == views_table['views'].max()]"
   ]
  },
  {
   "cell_type": "code",
   "execution_count": 245,
   "id": "b7229519",
   "metadata": {},
   "outputs": [
    {
     "data": {
      "text/html": [
       "<div>\n",
       "<style scoped>\n",
       "    .dataframe tbody tr th:only-of-type {\n",
       "        vertical-align: middle;\n",
       "    }\n",
       "\n",
       "    .dataframe tbody tr th {\n",
       "        vertical-align: top;\n",
       "    }\n",
       "\n",
       "    .dataframe thead th {\n",
       "        text-align: right;\n",
       "    }\n",
       "</style>\n",
       "<table border=\"1\" class=\"dataframe\">\n",
       "  <thead>\n",
       "    <tr style=\"text-align: right;\">\n",
       "      <th></th>\n",
       "      <th>year</th>\n",
       "      <th>views</th>\n",
       "    </tr>\n",
       "  </thead>\n",
       "  <tbody>\n",
       "    <tr>\n",
       "      <th>0</th>\n",
       "      <td>1970</td>\n",
       "      <td>126,000.00</td>\n",
       "    </tr>\n",
       "  </tbody>\n",
       "</table>\n",
       "</div>"
      ],
      "text/plain": [
       "   year                views\n",
       "0  1970           126,000.00"
      ]
     },
     "execution_count": 245,
     "metadata": {},
     "output_type": "execute_result"
    }
   ],
   "source": [
    "#Minimum Views\n",
    "views_table[views_table['views'] == views_table['views'].min()]"
   ]
  },
  {
   "cell_type": "markdown",
   "id": "1690f22c",
   "metadata": {},
   "source": [
    "### "
   ]
  }
 ],
 "metadata": {
  "kernelspec": {
   "display_name": "Python 3 (ipykernel)",
   "language": "python",
   "name": "python3"
  },
  "language_info": {
   "codemirror_mode": {
    "name": "ipython",
    "version": 3
   },
   "file_extension": ".py",
   "mimetype": "text/x-python",
   "name": "python",
   "nbconvert_exporter": "python",
   "pygments_lexer": "ipython3",
   "version": "3.9.7"
  }
 },
 "nbformat": 4,
 "nbformat_minor": 5
}
